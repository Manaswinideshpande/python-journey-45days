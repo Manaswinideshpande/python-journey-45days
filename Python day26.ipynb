{
 "cells": [
  {
   "cell_type": "markdown",
   "id": "7a967854",
   "metadata": {},
   "source": [
    "# https://csiplearninghub.com/python-if-else-conditional-statement-practice/#test7"
   ]
  },
  {
   "cell_type": "code",
   "execution_count": 1,
   "id": "958f9137",
   "metadata": {},
   "outputs": [
    {
     "name": "stdout",
     "output_type": "stream",
     "text": [
      "apple fruit\n"
     ]
    }
   ],
   "source": [
    "a= 'apple'\n",
    "b ='fruit'\n",
    "if  a == 'apple' and b == 'fruit':\n",
    "    print(a,b)"
   ]
  },
  {
   "cell_type": "code",
   "execution_count": 7,
   "id": "8402bb2f",
   "metadata": {},
   "outputs": [
    {
     "name": "stdout",
     "output_type": "stream",
     "text": [
      "enter the age: 19\n",
      "person elgible for voting\n"
     ]
    }
   ],
   "source": [
    "age = int(input('enter the age: '))\n",
    "if age >=18:\n",
    "    print('person elgible for voting')\n",
    "else:\n",
    "    print('person not elgible for voting')"
   ]
  },
  {
   "cell_type": "code",
   "execution_count": 9,
   "id": "194d22fa",
   "metadata": {},
   "outputs": [
    {
     "name": "stdout",
     "output_type": "stream",
     "text": [
      "enter the number5\n",
      "the number is odd\n"
     ]
    }
   ],
   "source": [
    "number = int(input('enter the number'))\n",
    "if number%2 ==0:\n",
    "    print('the number is even')\n",
    "if  number%2!=0:\n",
    "    print('the number is odd')"
   ]
  },
  {
   "cell_type": "code",
   "execution_count": 14,
   "id": "2693e8f0",
   "metadata": {},
   "outputs": [
    {
     "name": "stdout",
     "output_type": "stream",
     "text": [
      "enter the number14\n",
      "the number divisible by 7\n"
     ]
    }
   ],
   "source": [
    "num = int(input('enter the number'))\n",
    "if num%7 == 0:\n",
    "    print('the number divisible by 7')\n",
    "else:\n",
    "    print('the number not divisible by 7')"
   ]
  },
  {
   "cell_type": "code",
   "execution_count": null,
   "id": "615c0126",
   "metadata": {},
   "outputs": [],
   "source": [
    "\n",
    "    "
   ]
  },
  {
   "cell_type": "code",
   "execution_count": 2,
   "id": "79b4e45c",
   "metadata": {},
   "outputs": [
    {
     "name": "stdout",
     "output_type": "stream",
     "text": [
      "Enter the units600\n",
      "Rs 10 per Unit: 5500\n"
     ]
    }
   ],
   "source": [
    "amt = 0\n",
    "bill = int(input(\"Enter the units\"))\n",
    "if bill<=100:\n",
    "    print('no charge:',amt)\n",
    "    amt = 0\n",
    "if bill>100 and bill<=200:\n",
    "    amt = (bill-100)*5\n",
    "    print('Rs 5 per Unit:',amt)\n",
    "if bill>200:\n",
    "    amt = 500+(bill-100)*10\n",
    "    print('Rs 10 per Unit:',amt)"
   ]
  },
  {
   "cell_type": "code",
   "execution_count": 4,
   "id": "850aa2c4",
   "metadata": {},
   "outputs": [
    {
     "name": "stdout",
     "output_type": "stream",
     "text": [
      "enter the digit:29\n",
      "last digit of number 9\n"
     ]
    }
   ],
   "source": [
    "last_digit = int(input('enter the digit:'))\n",
    "print('last digit of number',last_digit%10)"
   ]
  },
  {
   "cell_type": "code",
   "execution_count": 5,
   "id": "325dc3cc",
   "metadata": {},
   "outputs": [
    {
     "name": "stdout",
     "output_type": "stream",
     "text": [
      "enter the digit:9\n",
      "number divisible by 3\n"
     ]
    }
   ],
   "source": [
    "num = int(input('enter the digit:'))\n",
    "number = num%10\n",
    "if number%3 == 0:\n",
    "    print('number divisible by 3')\n",
    "else:\n",
    "    print('number not divisble by 3')"
   ]
  },
  {
   "cell_type": "code",
   "execution_count": 2,
   "id": "96bc4a04",
   "metadata": {},
   "outputs": [
    {
     "name": "stdout",
     "output_type": "stream",
     "text": [
      "enter the number:92\n",
      "A Grade\n"
     ]
    }
   ],
   "source": [
    "marks = int(input('enter the number:'))\n",
    "if marks>90:\n",
    "    print('A Grade')\n",
    "elif marks>80 and marks<=90:\n",
    "    print('B Grade')\n",
    "elif marks>60 and marks<=80:\n",
    "    print('C Grade')\n",
    "elif marks<60:\n",
    "    print('D Grade')\n",
    "    "
   ]
  },
  {
   "cell_type": "code",
   "execution_count": 7,
   "id": "bb1e632d",
   "metadata": {
    "scrolled": true
   },
   "outputs": [
    {
     "name": "stdout",
     "output_type": "stream",
     "text": [
      "enter the value:45000\n",
      "tax to be paid 2250.0\n"
     ]
    }
   ],
   "source": [
    "cost_price = int(input('enter the value:'))\n",
    "road_tax = 0\n",
    "if cost_price >100000:\n",
    "    road_tax = cost_price * 15/100\n",
    "elif cost_price >50000 and cost_price <=100000:\n",
    "    road_tax  = cost_price*10/100\n",
    "elif cost_price <=50000:\n",
    "    road_tax = cost_price*5/100\n",
    "print(\"tax to be paid\",road_tax)\n",
    "    "
   ]
  },
  {
   "cell_type": "code",
   "execution_count": 19,
   "id": "2fd32b6f",
   "metadata": {},
   "outputs": [
    {
     "name": "stdout",
     "output_type": "stream",
     "text": [
      "enter the year:2012\n",
      "Leap year\n"
     ]
    }
   ],
   "source": [
    "year =int(input('enter the year:'))\n",
    "if year%400 == 0:\n",
    "    print('Leap year')\n",
    "elif year % 4 == 0 and year % 100 != 0:\n",
    "    print('Leap year')\n",
    "else:\n",
    "    print(' Not Leap year')"
   ]
  },
  {
   "cell_type": "code",
   "execution_count": 22,
   "id": "3b74643f",
   "metadata": {},
   "outputs": [
    {
     "name": "stdout",
     "output_type": "stream",
     "text": [
      "enter the num (1-7):6\n",
      "Friday\n"
     ]
    }
   ],
   "source": [
    "days = [\"Sunday\", \"Monday\", \"Tuesday\", \"Wednesday\", \"Thursday\", \"Friday\", \"Saturday\"]\n",
    "num = int(input('enter the num (1-7):'))\n",
    "if 1<=num <=7:\n",
    "    print(days[num - 1])\n",
    "else:\n",
    "    print('no days')"
   ]
  },
  {
   "cell_type": "code",
   "execution_count": 24,
   "id": "4d533cb7",
   "metadata": {},
   "outputs": [
    {
     "name": "stdout",
     "output_type": "stream",
     "text": [
      "enter the num (1-12):6\n",
      "June has 30 days.\n"
     ]
    }
   ],
   "source": [
    "num = int(input('enter the num (1-12):'))\n",
    "month_days = [\n",
    "    (\"January\", 31),\n",
    "    (\"February\", 28),  # We'll handle leap years separately\n",
    "    (\"March\", 31),\n",
    "    (\"April\", 30),\n",
    "    (\"May\", 31),\n",
    "    (\"June\", 30),\n",
    "    (\"July\", 31),\n",
    "    (\"August\", 31),\n",
    "    (\"September\", 30),\n",
    "    (\"October\", 31),\n",
    "    (\"November\", 30),\n",
    "    (\"December\", 31)\n",
    "]\n",
    "\n",
    "if 1<= num <=12:\n",
    "    month, days = month_days[num -1]\n",
    "    print(f\"{month} has {days} days.\")\n",
    "else:\n",
    "    print('no days')\n"
   ]
  },
  {
   "cell_type": "code",
   "execution_count": 1,
   "id": "3f787b97",
   "metadata": {},
   "outputs": [
    {
     "name": "stdout",
     "output_type": "stream",
     "text": [
      "Enter the first number: 9\n",
      "Enter the second number: 7\n",
      "Enter the third number: 9\n",
      "Enter the fourth number: 8\n",
      "True\n"
     ]
    }
   ],
   "source": [
    "a = int(input('Enter the first number: '))\n",
    "b = int(input('Enter the second number: '))\n",
    "c = int(input('Enter the third number: '))\n",
    "d = int(input('Enter the fourth number: '))\n",
    "\n",
    "# Check if both conditions are true\n",
    "if a > b and c > d:\n",
    "    print(True)\n",
    "else:\n",
    "    print(False)\n"
   ]
  },
  {
   "cell_type": "code",
   "execution_count": 6,
   "id": "d969ad97",
   "metadata": {},
   "outputs": [
    {
     "name": "stdout",
     "output_type": "stream",
     "text": [
      "enter the cityDelhi\n",
      "Monument Red fort\n"
     ]
    }
   ],
   "source": [
    "City = input('enter the city')\n",
    "if City == \"Delhi\":\n",
    "    print('Monument Red fort')\n",
    "elif City == \"Agra\":\n",
    "    print('Monument TajMahal')\n",
    "elif City == \"Jaipur\":\n",
    "    print('Monument JalMahal')\n",
    "else:\n",
    "    print('City not recognized')"
   ]
  },
  {
   "cell_type": "code",
   "execution_count": 8,
   "id": "dc3c68d8",
   "metadata": {},
   "outputs": [
    {
     "name": "stdout",
     "output_type": "stream",
     "text": [
      "enter the number:240\n",
      "middle number 4\n"
     ]
    }
   ],
   "source": [
    "num = input('enter the number:')\n",
    "if len(num) !=3:\n",
    "    print('three digit number')\n",
    "else:\n",
    "    print('middle number',int(num)%100//10)"
   ]
  },
  {
   "cell_type": "code",
   "execution_count": 9,
   "id": "1f986341",
   "metadata": {},
   "outputs": [
    {
     "name": "stdout",
     "output_type": "stream",
     "text": [
      "enter the number:20\n",
      "elgible for voting\n"
     ]
    }
   ],
   "source": [
    "age= int(input('enter the number:'))\n",
    "if age<=18:\n",
    "    print('elgible for voting')\n",
    "if age>18:\n",
    "    print('elgible for voting')\n",
    "else:\n",
    "    print('No vote')\n"
   ]
  },
  {
   "cell_type": "code",
   "execution_count": 12,
   "id": "e15a435c",
   "metadata": {},
   "outputs": [
    {
     "name": "stdout",
     "output_type": "stream",
     "text": [
      "enter the number:20\n",
      "enter the number:30\n",
      "lowest number 20\n"
     ]
    }
   ],
   "source": [
    "num1 = int(input('enter the number:'))\n",
    "num2 =  int(input('enter the number:'))\n",
    "if num1<num2:\n",
    "    print('lowest number',num1)\n",
    "else:\n",
    "    print('highest number')\n",
    "\n",
    "\n",
    "\n"
   ]
  },
  {
   "cell_type": "code",
   "execution_count": 14,
   "id": "01e28965",
   "metadata": {},
   "outputs": [
    {
     "name": "stdout",
     "output_type": "stream",
     "text": [
      "enter the number:9\n",
      "number is odd\n"
     ]
    }
   ],
   "source": [
    "num = int(input('enter the number:'))\n",
    "if num %2==0:\n",
    "    print('number is even')\n",
    "else:\n",
    "    print('number is odd')\n"
   ]
  },
  {
   "cell_type": "code",
   "execution_count": 18,
   "id": "6b16b248",
   "metadata": {},
   "outputs": [
    {
     "name": "stdout",
     "output_type": "stream",
     "text": [
      "enter the number:15\n",
      "number not divisible\n"
     ]
    }
   ],
   "source": [
    "num = int(input('enter the number:'))\n",
    "if num %2==0 and num%3==0:\n",
    "    print('number divisible',num)\n",
    "else:\n",
    "    print('number not divisible')"
   ]
  },
  {
   "cell_type": "code",
   "execution_count": 26,
   "id": "f5690e9e",
   "metadata": {},
   "outputs": [
    {
     "name": "stdout",
     "output_type": "stream",
     "text": [
      "enter the number in celcius :130\n",
      "the water is boiling at 130\n"
     ]
    }
   ],
   "source": [
    "num = int(input('enter the number in celcius :'))\n",
    "if num >=100:\n",
    "    print('the water is boiling at',num )\n",
    "else:\n",
    "    print('the water is mot boiling')"
   ]
  },
  {
   "cell_type": "code",
   "execution_count": 30,
   "id": "3d0b1a27",
   "metadata": {},
   "outputs": [
    {
     "name": "stdout",
     "output_type": "stream",
     "text": [
      "enter the number:21\n",
      "enter the number:22\n",
      "enter the number:20\n",
      "enter the number:28\n",
      "youngest among four is: 20\n"
     ]
    }
   ],
   "source": [
    "age1 = int(input('enter the number:'))\n",
    "age2 = int(input('enter the number:'))\n",
    "age3 = int(input('enter the number:'))\n",
    "age4 = int(input('enter the number:'))\n",
    "if age1<age2 and age1<age3 and age1<age4:\n",
    "    print('youngest among four is:',age1)\n",
    "elif age2<age3 and age2<age4 and age2<age1:\n",
    "    print('youngest among four is:',age2)\n",
    "elif age3<age4 and age3<age2 and age3<age1:\n",
    "    print('youngest among four is:',age3)\n",
    "elif age4<age1 and age4<age2 and age4<age3:\n",
    "    print('youngest among four is:',age4)"
   ]
  },
  {
   "cell_type": "code",
   "execution_count": 5,
   "id": "902f175d",
   "metadata": {},
   "outputs": [
    {
     "name": "stdout",
     "output_type": "stream",
     "text": [
      "enter the number Total_number_working_days:79\n",
      "enter the number Total_number_absent_days:48\n",
      "your attendance is: 18.24050632911392\n",
      "student not allowed to sit in exam\n"
     ]
    }
   ],
   "source": [
    "Total_number_working_days = int(input('enter the number Total_number_working_days:'))\n",
    "Total_number_absent_days = int(input('enter the number Total_number_absent_days:'))\n",
    "percentage = Total_number_working_days -Total_number_absent_days/Total_number_working_days*100\n",
    "print('your attendance is:',percentage)\n",
    "if percentage <75:\n",
    "    print('student not allowed to sit in exam')\n",
    "else:\n",
    "    print('student  allowed to sit in exam')\n"
   ]
  },
  {
   "cell_type": "code",
   "execution_count": null,
   "id": "53c7c44a",
   "metadata": {},
   "outputs": [],
   "source": [
    "percentage =  int(input('enter the number:')\n"
   ]
  },
  {
   "cell_type": "code",
   "execution_count": null,
   "id": "23053d3b",
   "metadata": {},
   "outputs": [],
   "source": []
  }
 ],
 "metadata": {
  "kernelspec": {
   "display_name": "Python 3 (ipykernel)",
   "language": "python",
   "name": "python3"
  },
  "language_info": {
   "codemirror_mode": {
    "name": "ipython",
    "version": 3
   },
   "file_extension": ".py",
   "mimetype": "text/x-python",
   "name": "python",
   "nbconvert_exporter": "python",
   "pygments_lexer": "ipython3",
   "version": "3.9.12"
  }
 },
 "nbformat": 4,
 "nbformat_minor": 5
}
