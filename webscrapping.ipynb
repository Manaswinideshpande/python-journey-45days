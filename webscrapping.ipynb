{
 "cells": [
  {
   "cell_type": "code",
   "execution_count": 3,
   "id": "63f838a6-242b-41af-bd9e-7f1b9a53f658",
   "metadata": {},
   "outputs": [
    {
     "name": "stdout",
     "output_type": "stream",
     "text": [
      "Requirement already satisfied: requests in c:\\users\\deshp\\anaconda3\\lib\\site-packages (2.31.0)\n",
      "Requirement already satisfied: charset-normalizer<4,>=2 in c:\\users\\deshp\\anaconda3\\lib\\site-packages (from requests) (3.3.2)\n",
      "Requirement already satisfied: idna<4,>=2.5 in c:\\users\\deshp\\anaconda3\\lib\\site-packages (from requests) (3.7)\n",
      "Requirement already satisfied: urllib3<3,>=1.21.1 in c:\\users\\deshp\\anaconda3\\lib\\site-packages (from requests) (2.3.0)\n",
      "Requirement already satisfied: certifi>=2017.4.17 in c:\\users\\deshp\\anaconda3\\lib\\site-packages (from requests) (2025.1.31)\n"
     ]
    },
    {
     "name": "stderr",
     "output_type": "stream",
     "text": [
      "WARNING: Ignoring invalid distribution - (c:\\users\\deshp\\anaconda3\\lib\\site-packages)\n",
      "WARNING: Ignoring invalid distribution -rotobuf (c:\\users\\deshp\\anaconda3\\lib\\site-packages)\n",
      "WARNING: Ignoring invalid distribution - (c:\\users\\deshp\\anaconda3\\lib\\site-packages)\n",
      "WARNING: Ignoring invalid distribution -rotobuf (c:\\users\\deshp\\anaconda3\\lib\\site-packages)\n",
      "WARNING: Ignoring invalid distribution - (c:\\users\\deshp\\anaconda3\\lib\\site-packages)\n",
      "WARNING: Ignoring invalid distribution -rotobuf (c:\\users\\deshp\\anaconda3\\lib\\site-packages)\n"
     ]
    }
   ],
   "source": [
    "!pip install requests\n"
   ]
  },
  {
   "cell_type": "code",
   "execution_count": 4,
   "id": "8716206e-3882-4692-9754-d5362e15f323",
   "metadata": {},
   "outputs": [],
   "source": [
    "from  bs4 import  BeautifulSoup"
   ]
  },
  {
   "cell_type": "code",
   "execution_count": 5,
   "id": "6576b60e-0d12-45be-bd4a-06ec4590963d",
   "metadata": {},
   "outputs": [],
   "source": [
    "import requests\n",
    "response = requests.get(\"https://prsindia.org/bills/states\")"
   ]
  },
  {
   "cell_type": "code",
   "execution_count": null,
   "id": "b1689d68-ad75-4690-91bd-2a3773ed0f3b",
   "metadata": {},
   "outputs": [],
   "source": [
    "print(response)"
   ]
  },
  {
   "cell_type": "code",
   "execution_count": 9,
   "id": "d7548b8e-61ef-43ac-af1a-a130c0b1702b",
   "metadata": {},
   "outputs": [],
   "source": [
    "Soup = BeautifulSoup(response.content, 'html.parser')\n"
   ]
  },
  {
   "cell_type": "code",
   "execution_count": 11,
   "id": "9ff221ad-92b5-4890-b734-2db249130eed",
   "metadata": {},
   "outputs": [
    {
     "name": "stdout",
     "output_type": "stream",
     "text": [
      "Requirement already satisfied: lxml in c:\\users\\deshp\\anaconda3\\lib\\site-packages (6.0.1)\n"
     ]
    },
    {
     "name": "stderr",
     "output_type": "stream",
     "text": [
      "WARNING: Ignoring invalid distribution - (c:\\users\\deshp\\anaconda3\\lib\\site-packages)\n",
      "WARNING: Ignoring invalid distribution -rotobuf (c:\\users\\deshp\\anaconda3\\lib\\site-packages)\n",
      "WARNING: Ignoring invalid distribution - (c:\\users\\deshp\\anaconda3\\lib\\site-packages)\n",
      "WARNING: Ignoring invalid distribution -rotobuf (c:\\users\\deshp\\anaconda3\\lib\\site-packages)\n",
      "WARNING: Ignoring invalid distribution - (c:\\users\\deshp\\anaconda3\\lib\\site-packages)\n",
      "WARNING: Ignoring invalid distribution -rotobuf (c:\\users\\deshp\\anaconda3\\lib\\site-packages)\n"
     ]
    }
   ],
   "source": [
    "!pip install lxml\n"
   ]
  },
  {
   "cell_type": "code",
   "execution_count": null,
   "id": "34f47277-dbdf-416f-9949-64a3ae3b3fed",
   "metadata": {},
   "outputs": [],
   "source": [
    "Soup"
   ]
  },
  {
   "cell_type": "code",
   "execution_count": 23,
   "id": "f19183f6-97b4-4163-ba9c-c6700e9b935f",
   "metadata": {},
   "outputs": [
    {
     "name": "stdout",
     "output_type": "stream",
     "text": [
      "[\"\\nThe Bihar Underground Pipe Line (Acquisition of user's Right in Land) (Amendment) Bill, 2025 \"]\n",
      "[\"\\nThe Bihar Underground Pipe Line (Acquisition of user's Right in Land) (Amendment) Bill, 2025 \", '\\nThe Transfer of Prisoners (Punjab Amendment) Bill, 2025 ']\n",
      "[\"\\nThe Bihar Underground Pipe Line (Acquisition of user's Right in Land) (Amendment) Bill, 2025 \", '\\nThe Transfer of Prisoners (Punjab Amendment) Bill, 2025 ', '\\nThe Mahatma Gandhi University Sikkim (Amendment) Bill, 2025 ']\n",
      "[\"\\nThe Bihar Underground Pipe Line (Acquisition of user's Right in Land) (Amendment) Bill, 2025 \", '\\nThe Transfer of Prisoners (Punjab Amendment) Bill, 2025 ', '\\nThe Mahatma Gandhi University Sikkim (Amendment) Bill, 2025 ', '\\nThe Salaries, Allowances, Pension and Other Benefits of The Ministers, Speaker, Dy. Speaker, LoP, Govt Chief Whip and the MLAs (Tripura) (Ninth Amendment) Bill, 2024 ']\n",
      "[\"\\nThe Bihar Underground Pipe Line (Acquisition of user's Right in Land) (Amendment) Bill, 2025 \", '\\nThe Transfer of Prisoners (Punjab Amendment) Bill, 2025 ', '\\nThe Mahatma Gandhi University Sikkim (Amendment) Bill, 2025 ', '\\nThe Salaries, Allowances, Pension and Other Benefits of The Ministers, Speaker, Dy. Speaker, LoP, Govt Chief Whip and the MLAs (Tripura) (Ninth Amendment) Bill, 2024 ', '\\nThe Registration (Madhya Pradesh Amendment) Bill, 2025 ']\n",
      "[\"\\nThe Bihar Underground Pipe Line (Acquisition of user's Right in Land) (Amendment) Bill, 2025 \", '\\nThe Transfer of Prisoners (Punjab Amendment) Bill, 2025 ', '\\nThe Mahatma Gandhi University Sikkim (Amendment) Bill, 2025 ', '\\nThe Salaries, Allowances, Pension and Other Benefits of The Ministers, Speaker, Dy. Speaker, LoP, Govt Chief Whip and the MLAs (Tripura) (Ninth Amendment) Bill, 2024 ', '\\nThe Registration (Madhya Pradesh Amendment) Bill, 2025 ', '\\nThe Haryana Honorable Disposal of Dead Body Bill, 2025 ']\n",
      "[\"\\nThe Bihar Underground Pipe Line (Acquisition of user's Right in Land) (Amendment) Bill, 2025 \", '\\nThe Transfer of Prisoners (Punjab Amendment) Bill, 2025 ', '\\nThe Mahatma Gandhi University Sikkim (Amendment) Bill, 2025 ', '\\nThe Salaries, Allowances, Pension and Other Benefits of The Ministers, Speaker, Dy. Speaker, LoP, Govt Chief Whip and the MLAs (Tripura) (Ninth Amendment) Bill, 2024 ', '\\nThe Registration (Madhya Pradesh Amendment) Bill, 2025 ', '\\nThe Haryana Honorable Disposal of Dead Body Bill, 2025 ', '\\nThe Bikaner Development Authority Bill, 2025 ']\n",
      "[\"\\nThe Bihar Underground Pipe Line (Acquisition of user's Right in Land) (Amendment) Bill, 2025 \", '\\nThe Transfer of Prisoners (Punjab Amendment) Bill, 2025 ', '\\nThe Mahatma Gandhi University Sikkim (Amendment) Bill, 2025 ', '\\nThe Salaries, Allowances, Pension and Other Benefits of The Ministers, Speaker, Dy. Speaker, LoP, Govt Chief Whip and the MLAs (Tripura) (Ninth Amendment) Bill, 2024 ', '\\nThe Registration (Madhya Pradesh Amendment) Bill, 2025 ', '\\nThe Haryana Honorable Disposal of Dead Body Bill, 2025 ', '\\nThe Bikaner Development Authority Bill, 2025 ', '\\nThe Himachal Pradesh Legislative Assembly (Allowances and Pension of Members) Amendment Bill, 2025 ']\n",
      "[\"\\nThe Bihar Underground Pipe Line (Acquisition of user's Right in Land) (Amendment) Bill, 2025 \", '\\nThe Transfer of Prisoners (Punjab Amendment) Bill, 2025 ', '\\nThe Mahatma Gandhi University Sikkim (Amendment) Bill, 2025 ', '\\nThe Salaries, Allowances, Pension and Other Benefits of The Ministers, Speaker, Dy. Speaker, LoP, Govt Chief Whip and the MLAs (Tripura) (Ninth Amendment) Bill, 2024 ', '\\nThe Registration (Madhya Pradesh Amendment) Bill, 2025 ', '\\nThe Haryana Honorable Disposal of Dead Body Bill, 2025 ', '\\nThe Bikaner Development Authority Bill, 2025 ', '\\nThe Himachal Pradesh Legislative Assembly (Allowances and Pension of Members) Amendment Bill, 2025 ', '\\nThe Registration (Chhattisgarh Amendment) Bill, 2025 ']\n",
      "[\"\\nThe Bihar Underground Pipe Line (Acquisition of user's Right in Land) (Amendment) Bill, 2025 \", '\\nThe Transfer of Prisoners (Punjab Amendment) Bill, 2025 ', '\\nThe Mahatma Gandhi University Sikkim (Amendment) Bill, 2025 ', '\\nThe Salaries, Allowances, Pension and Other Benefits of The Ministers, Speaker, Dy. Speaker, LoP, Govt Chief Whip and the MLAs (Tripura) (Ninth Amendment) Bill, 2024 ', '\\nThe Registration (Madhya Pradesh Amendment) Bill, 2025 ', '\\nThe Haryana Honorable Disposal of Dead Body Bill, 2025 ', '\\nThe Bikaner Development Authority Bill, 2025 ', '\\nThe Himachal Pradesh Legislative Assembly (Allowances and Pension of Members) Amendment Bill, 2025 ', '\\nThe Registration (Chhattisgarh Amendment) Bill, 2025 ', '\\nThe Gujarat Land Revenue (Amendment) Bill, 2025 ']\n",
      "[\"\\nThe Bihar Underground Pipe Line (Acquisition of user's Right in Land) (Amendment) Bill, 2025 \", '\\nThe Transfer of Prisoners (Punjab Amendment) Bill, 2025 ', '\\nThe Mahatma Gandhi University Sikkim (Amendment) Bill, 2025 ', '\\nThe Salaries, Allowances, Pension and Other Benefits of The Ministers, Speaker, Dy. Speaker, LoP, Govt Chief Whip and the MLAs (Tripura) (Ninth Amendment) Bill, 2024 ', '\\nThe Registration (Madhya Pradesh Amendment) Bill, 2025 ', '\\nThe Haryana Honorable Disposal of Dead Body Bill, 2025 ', '\\nThe Bikaner Development Authority Bill, 2025 ', '\\nThe Himachal Pradesh Legislative Assembly (Allowances and Pension of Members) Amendment Bill, 2025 ', '\\nThe Registration (Chhattisgarh Amendment) Bill, 2025 ', '\\nThe Gujarat Land Revenue (Amendment) Bill, 2025 ', '\\nThe Tamil Nadu Urban Local Bodies (Amendment) Bill, 2025 ']\n",
      "[\"\\nThe Bihar Underground Pipe Line (Acquisition of user's Right in Land) (Amendment) Bill, 2025 \", '\\nThe Transfer of Prisoners (Punjab Amendment) Bill, 2025 ', '\\nThe Mahatma Gandhi University Sikkim (Amendment) Bill, 2025 ', '\\nThe Salaries, Allowances, Pension and Other Benefits of The Ministers, Speaker, Dy. Speaker, LoP, Govt Chief Whip and the MLAs (Tripura) (Ninth Amendment) Bill, 2024 ', '\\nThe Registration (Madhya Pradesh Amendment) Bill, 2025 ', '\\nThe Haryana Honorable Disposal of Dead Body Bill, 2025 ', '\\nThe Bikaner Development Authority Bill, 2025 ', '\\nThe Himachal Pradesh Legislative Assembly (Allowances and Pension of Members) Amendment Bill, 2025 ', '\\nThe Registration (Chhattisgarh Amendment) Bill, 2025 ', '\\nThe Gujarat Land Revenue (Amendment) Bill, 2025 ', '\\nThe Tamil Nadu Urban Local Bodies (Amendment) Bill, 2025 ', '\\nThe Karnataka Public Service Commission (Conduct of Business and Additional Functions) (Amendment) Bill, 2025 ']\n",
      "[\"\\nThe Bihar Underground Pipe Line (Acquisition of user's Right in Land) (Amendment) Bill, 2025 \", '\\nThe Transfer of Prisoners (Punjab Amendment) Bill, 2025 ', '\\nThe Mahatma Gandhi University Sikkim (Amendment) Bill, 2025 ', '\\nThe Salaries, Allowances, Pension and Other Benefits of The Ministers, Speaker, Dy. Speaker, LoP, Govt Chief Whip and the MLAs (Tripura) (Ninth Amendment) Bill, 2024 ', '\\nThe Registration (Madhya Pradesh Amendment) Bill, 2025 ', '\\nThe Haryana Honorable Disposal of Dead Body Bill, 2025 ', '\\nThe Bikaner Development Authority Bill, 2025 ', '\\nThe Himachal Pradesh Legislative Assembly (Allowances and Pension of Members) Amendment Bill, 2025 ', '\\nThe Registration (Chhattisgarh Amendment) Bill, 2025 ', '\\nThe Gujarat Land Revenue (Amendment) Bill, 2025 ', '\\nThe Tamil Nadu Urban Local Bodies (Amendment) Bill, 2025 ', '\\nThe Karnataka Public Service Commission (Conduct of Business and Additional Functions) (Amendment) Bill, 2025 ', '\\nThe Telangana Panchayat Raj (Amendment) Bill, 2025 ']\n",
      "[\"\\nThe Bihar Underground Pipe Line (Acquisition of user's Right in Land) (Amendment) Bill, 2025 \", '\\nThe Transfer of Prisoners (Punjab Amendment) Bill, 2025 ', '\\nThe Mahatma Gandhi University Sikkim (Amendment) Bill, 2025 ', '\\nThe Salaries, Allowances, Pension and Other Benefits of The Ministers, Speaker, Dy. Speaker, LoP, Govt Chief Whip and the MLAs (Tripura) (Ninth Amendment) Bill, 2024 ', '\\nThe Registration (Madhya Pradesh Amendment) Bill, 2025 ', '\\nThe Haryana Honorable Disposal of Dead Body Bill, 2025 ', '\\nThe Bikaner Development Authority Bill, 2025 ', '\\nThe Himachal Pradesh Legislative Assembly (Allowances and Pension of Members) Amendment Bill, 2025 ', '\\nThe Registration (Chhattisgarh Amendment) Bill, 2025 ', '\\nThe Gujarat Land Revenue (Amendment) Bill, 2025 ', '\\nThe Tamil Nadu Urban Local Bodies (Amendment) Bill, 2025 ', '\\nThe Karnataka Public Service Commission (Conduct of Business and Additional Functions) (Amendment) Bill, 2025 ', '\\nThe Telangana Panchayat Raj (Amendment) Bill, 2025 ', '\\nThe Netaji Subhash University of Sports and Entrepreneurship Bill, 2025 ']\n",
      "[\"\\nThe Bihar Underground Pipe Line (Acquisition of user's Right in Land) (Amendment) Bill, 2025 \", '\\nThe Transfer of Prisoners (Punjab Amendment) Bill, 2025 ', '\\nThe Mahatma Gandhi University Sikkim (Amendment) Bill, 2025 ', '\\nThe Salaries, Allowances, Pension and Other Benefits of The Ministers, Speaker, Dy. Speaker, LoP, Govt Chief Whip and the MLAs (Tripura) (Ninth Amendment) Bill, 2024 ', '\\nThe Registration (Madhya Pradesh Amendment) Bill, 2025 ', '\\nThe Haryana Honorable Disposal of Dead Body Bill, 2025 ', '\\nThe Bikaner Development Authority Bill, 2025 ', '\\nThe Himachal Pradesh Legislative Assembly (Allowances and Pension of Members) Amendment Bill, 2025 ', '\\nThe Registration (Chhattisgarh Amendment) Bill, 2025 ', '\\nThe Gujarat Land Revenue (Amendment) Bill, 2025 ', '\\nThe Tamil Nadu Urban Local Bodies (Amendment) Bill, 2025 ', '\\nThe Karnataka Public Service Commission (Conduct of Business and Additional Functions) (Amendment) Bill, 2025 ', '\\nThe Telangana Panchayat Raj (Amendment) Bill, 2025 ', '\\nThe Netaji Subhash University of Sports and Entrepreneurship Bill, 2025 ', '\\nThe Andhra Pradesh Private Universities (Establishment and Regulation) (Second Amendment) Bill, 2025 ']\n",
      "[\"\\nThe Bihar Underground Pipe Line (Acquisition of user's Right in Land) (Amendment) Bill, 2025 \", '\\nThe Transfer of Prisoners (Punjab Amendment) Bill, 2025 ', '\\nThe Mahatma Gandhi University Sikkim (Amendment) Bill, 2025 ', '\\nThe Salaries, Allowances, Pension and Other Benefits of The Ministers, Speaker, Dy. Speaker, LoP, Govt Chief Whip and the MLAs (Tripura) (Ninth Amendment) Bill, 2024 ', '\\nThe Registration (Madhya Pradesh Amendment) Bill, 2025 ', '\\nThe Haryana Honorable Disposal of Dead Body Bill, 2025 ', '\\nThe Bikaner Development Authority Bill, 2025 ', '\\nThe Himachal Pradesh Legislative Assembly (Allowances and Pension of Members) Amendment Bill, 2025 ', '\\nThe Registration (Chhattisgarh Amendment) Bill, 2025 ', '\\nThe Gujarat Land Revenue (Amendment) Bill, 2025 ', '\\nThe Tamil Nadu Urban Local Bodies (Amendment) Bill, 2025 ', '\\nThe Karnataka Public Service Commission (Conduct of Business and Additional Functions) (Amendment) Bill, 2025 ', '\\nThe Telangana Panchayat Raj (Amendment) Bill, 2025 ', '\\nThe Netaji Subhash University of Sports and Entrepreneurship Bill, 2025 ', '\\nThe Andhra Pradesh Private Universities (Establishment and Regulation) (Second Amendment) Bill, 2025 ', '\\nThe Maharashtra Private Universities (Establishment and Regulation) (Amendment) Bill, 2025 ']\n",
      "[\"\\nThe Bihar Underground Pipe Line (Acquisition of user's Right in Land) (Amendment) Bill, 2025 \", '\\nThe Transfer of Prisoners (Punjab Amendment) Bill, 2025 ', '\\nThe Mahatma Gandhi University Sikkim (Amendment) Bill, 2025 ', '\\nThe Salaries, Allowances, Pension and Other Benefits of The Ministers, Speaker, Dy. Speaker, LoP, Govt Chief Whip and the MLAs (Tripura) (Ninth Amendment) Bill, 2024 ', '\\nThe Registration (Madhya Pradesh Amendment) Bill, 2025 ', '\\nThe Haryana Honorable Disposal of Dead Body Bill, 2025 ', '\\nThe Bikaner Development Authority Bill, 2025 ', '\\nThe Himachal Pradesh Legislative Assembly (Allowances and Pension of Members) Amendment Bill, 2025 ', '\\nThe Registration (Chhattisgarh Amendment) Bill, 2025 ', '\\nThe Gujarat Land Revenue (Amendment) Bill, 2025 ', '\\nThe Tamil Nadu Urban Local Bodies (Amendment) Bill, 2025 ', '\\nThe Karnataka Public Service Commission (Conduct of Business and Additional Functions) (Amendment) Bill, 2025 ', '\\nThe Telangana Panchayat Raj (Amendment) Bill, 2025 ', '\\nThe Netaji Subhash University of Sports and Entrepreneurship Bill, 2025 ', '\\nThe Andhra Pradesh Private Universities (Establishment and Regulation) (Second Amendment) Bill, 2025 ', '\\nThe Maharashtra Private Universities (Establishment and Regulation) (Amendment) Bill, 2025 ', '\\nThe Maharashtra Regional and Town Planning (Amendment) Bill, 2025 ']\n",
      "[\"\\nThe Bihar Underground Pipe Line (Acquisition of user's Right in Land) (Amendment) Bill, 2025 \", '\\nThe Transfer of Prisoners (Punjab Amendment) Bill, 2025 ', '\\nThe Mahatma Gandhi University Sikkim (Amendment) Bill, 2025 ', '\\nThe Salaries, Allowances, Pension and Other Benefits of The Ministers, Speaker, Dy. Speaker, LoP, Govt Chief Whip and the MLAs (Tripura) (Ninth Amendment) Bill, 2024 ', '\\nThe Registration (Madhya Pradesh Amendment) Bill, 2025 ', '\\nThe Haryana Honorable Disposal of Dead Body Bill, 2025 ', '\\nThe Bikaner Development Authority Bill, 2025 ', '\\nThe Himachal Pradesh Legislative Assembly (Allowances and Pension of Members) Amendment Bill, 2025 ', '\\nThe Registration (Chhattisgarh Amendment) Bill, 2025 ', '\\nThe Gujarat Land Revenue (Amendment) Bill, 2025 ', '\\nThe Tamil Nadu Urban Local Bodies (Amendment) Bill, 2025 ', '\\nThe Karnataka Public Service Commission (Conduct of Business and Additional Functions) (Amendment) Bill, 2025 ', '\\nThe Telangana Panchayat Raj (Amendment) Bill, 2025 ', '\\nThe Netaji Subhash University of Sports and Entrepreneurship Bill, 2025 ', '\\nThe Andhra Pradesh Private Universities (Establishment and Regulation) (Second Amendment) Bill, 2025 ', '\\nThe Maharashtra Private Universities (Establishment and Regulation) (Amendment) Bill, 2025 ', '\\nThe Maharashtra Regional and Town Planning (Amendment) Bill, 2025 ', '\\nThe Indian Stamp (Punjab Amendment) Bill, 2025 ']\n",
      "[\"\\nThe Bihar Underground Pipe Line (Acquisition of user's Right in Land) (Amendment) Bill, 2025 \", '\\nThe Transfer of Prisoners (Punjab Amendment) Bill, 2025 ', '\\nThe Mahatma Gandhi University Sikkim (Amendment) Bill, 2025 ', '\\nThe Salaries, Allowances, Pension and Other Benefits of The Ministers, Speaker, Dy. Speaker, LoP, Govt Chief Whip and the MLAs (Tripura) (Ninth Amendment) Bill, 2024 ', '\\nThe Registration (Madhya Pradesh Amendment) Bill, 2025 ', '\\nThe Haryana Honorable Disposal of Dead Body Bill, 2025 ', '\\nThe Bikaner Development Authority Bill, 2025 ', '\\nThe Himachal Pradesh Legislative Assembly (Allowances and Pension of Members) Amendment Bill, 2025 ', '\\nThe Registration (Chhattisgarh Amendment) Bill, 2025 ', '\\nThe Gujarat Land Revenue (Amendment) Bill, 2025 ', '\\nThe Tamil Nadu Urban Local Bodies (Amendment) Bill, 2025 ', '\\nThe Karnataka Public Service Commission (Conduct of Business and Additional Functions) (Amendment) Bill, 2025 ', '\\nThe Telangana Panchayat Raj (Amendment) Bill, 2025 ', '\\nThe Netaji Subhash University of Sports and Entrepreneurship Bill, 2025 ', '\\nThe Andhra Pradesh Private Universities (Establishment and Regulation) (Second Amendment) Bill, 2025 ', '\\nThe Maharashtra Private Universities (Establishment and Regulation) (Amendment) Bill, 2025 ', '\\nThe Maharashtra Regional and Town Planning (Amendment) Bill, 2025 ', '\\nThe Indian Stamp (Punjab Amendment) Bill, 2025 ', '\\nThe Uttar Pradesh Private Universities (Second Amendment) Ordinance, 2025 ']\n",
      "[\"\\nThe Bihar Underground Pipe Line (Acquisition of user's Right in Land) (Amendment) Bill, 2025 \", '\\nThe Transfer of Prisoners (Punjab Amendment) Bill, 2025 ', '\\nThe Mahatma Gandhi University Sikkim (Amendment) Bill, 2025 ', '\\nThe Salaries, Allowances, Pension and Other Benefits of The Ministers, Speaker, Dy. Speaker, LoP, Govt Chief Whip and the MLAs (Tripura) (Ninth Amendment) Bill, 2024 ', '\\nThe Registration (Madhya Pradesh Amendment) Bill, 2025 ', '\\nThe Haryana Honorable Disposal of Dead Body Bill, 2025 ', '\\nThe Bikaner Development Authority Bill, 2025 ', '\\nThe Himachal Pradesh Legislative Assembly (Allowances and Pension of Members) Amendment Bill, 2025 ', '\\nThe Registration (Chhattisgarh Amendment) Bill, 2025 ', '\\nThe Gujarat Land Revenue (Amendment) Bill, 2025 ', '\\nThe Tamil Nadu Urban Local Bodies (Amendment) Bill, 2025 ', '\\nThe Karnataka Public Service Commission (Conduct of Business and Additional Functions) (Amendment) Bill, 2025 ', '\\nThe Telangana Panchayat Raj (Amendment) Bill, 2025 ', '\\nThe Netaji Subhash University of Sports and Entrepreneurship Bill, 2025 ', '\\nThe Andhra Pradesh Private Universities (Establishment and Regulation) (Second Amendment) Bill, 2025 ', '\\nThe Maharashtra Private Universities (Establishment and Regulation) (Amendment) Bill, 2025 ', '\\nThe Maharashtra Regional and Town Planning (Amendment) Bill, 2025 ', '\\nThe Indian Stamp (Punjab Amendment) Bill, 2025 ', '\\nThe Uttar Pradesh Private Universities (Second Amendment) Ordinance, 2025 ', '\\nThe Bihar Agricultural Land (Conversion for Non-agricultural Purposes) (Amendment) Bill, 2025 ']\n",
      "[\"\\nThe Bihar Underground Pipe Line (Acquisition of user's Right in Land) (Amendment) Bill, 2025 \", '\\nThe Transfer of Prisoners (Punjab Amendment) Bill, 2025 ', '\\nThe Mahatma Gandhi University Sikkim (Amendment) Bill, 2025 ', '\\nThe Salaries, Allowances, Pension and Other Benefits of The Ministers, Speaker, Dy. Speaker, LoP, Govt Chief Whip and the MLAs (Tripura) (Ninth Amendment) Bill, 2024 ', '\\nThe Registration (Madhya Pradesh Amendment) Bill, 2025 ', '\\nThe Haryana Honorable Disposal of Dead Body Bill, 2025 ', '\\nThe Bikaner Development Authority Bill, 2025 ', '\\nThe Himachal Pradesh Legislative Assembly (Allowances and Pension of Members) Amendment Bill, 2025 ', '\\nThe Registration (Chhattisgarh Amendment) Bill, 2025 ', '\\nThe Gujarat Land Revenue (Amendment) Bill, 2025 ', '\\nThe Tamil Nadu Urban Local Bodies (Amendment) Bill, 2025 ', '\\nThe Karnataka Public Service Commission (Conduct of Business and Additional Functions) (Amendment) Bill, 2025 ', '\\nThe Telangana Panchayat Raj (Amendment) Bill, 2025 ', '\\nThe Netaji Subhash University of Sports and Entrepreneurship Bill, 2025 ', '\\nThe Andhra Pradesh Private Universities (Establishment and Regulation) (Second Amendment) Bill, 2025 ', '\\nThe Maharashtra Private Universities (Establishment and Regulation) (Amendment) Bill, 2025 ', '\\nThe Maharashtra Regional and Town Planning (Amendment) Bill, 2025 ', '\\nThe Indian Stamp (Punjab Amendment) Bill, 2025 ', '\\nThe Uttar Pradesh Private Universities (Second Amendment) Ordinance, 2025 ', '\\nThe Bihar Agricultural Land (Conversion for Non-agricultural Purposes) (Amendment) Bill, 2025 ', '\\nThe Meghalaya Private Medical Institutions including Institutes under Private University (Regulation of Admission, Fixation of Fees, and Reservation) Ordinance, 2025 ']\n",
      "[\"\\nThe Bihar Underground Pipe Line (Acquisition of user's Right in Land) (Amendment) Bill, 2025 \", '\\nThe Transfer of Prisoners (Punjab Amendment) Bill, 2025 ', '\\nThe Mahatma Gandhi University Sikkim (Amendment) Bill, 2025 ', '\\nThe Salaries, Allowances, Pension and Other Benefits of The Ministers, Speaker, Dy. Speaker, LoP, Govt Chief Whip and the MLAs (Tripura) (Ninth Amendment) Bill, 2024 ', '\\nThe Registration (Madhya Pradesh Amendment) Bill, 2025 ', '\\nThe Haryana Honorable Disposal of Dead Body Bill, 2025 ', '\\nThe Bikaner Development Authority Bill, 2025 ', '\\nThe Himachal Pradesh Legislative Assembly (Allowances and Pension of Members) Amendment Bill, 2025 ', '\\nThe Registration (Chhattisgarh Amendment) Bill, 2025 ', '\\nThe Gujarat Land Revenue (Amendment) Bill, 2025 ', '\\nThe Tamil Nadu Urban Local Bodies (Amendment) Bill, 2025 ', '\\nThe Karnataka Public Service Commission (Conduct of Business and Additional Functions) (Amendment) Bill, 2025 ', '\\nThe Telangana Panchayat Raj (Amendment) Bill, 2025 ', '\\nThe Netaji Subhash University of Sports and Entrepreneurship Bill, 2025 ', '\\nThe Andhra Pradesh Private Universities (Establishment and Regulation) (Second Amendment) Bill, 2025 ', '\\nThe Maharashtra Private Universities (Establishment and Regulation) (Amendment) Bill, 2025 ', '\\nThe Maharashtra Regional and Town Planning (Amendment) Bill, 2025 ', '\\nThe Indian Stamp (Punjab Amendment) Bill, 2025 ', '\\nThe Uttar Pradesh Private Universities (Second Amendment) Ordinance, 2025 ', '\\nThe Bihar Agricultural Land (Conversion for Non-agricultural Purposes) (Amendment) Bill, 2025 ', '\\nThe Meghalaya Private Medical Institutions including Institutes under Private University (Regulation of Admission, Fixation of Fees, and Reservation) Ordinance, 2025 ', '\\nThe Maharashtra State Commission for Scheduled Castes Bill, 2025 ']\n",
      "[\"\\nThe Bihar Underground Pipe Line (Acquisition of user's Right in Land) (Amendment) Bill, 2025 \", '\\nThe Transfer of Prisoners (Punjab Amendment) Bill, 2025 ', '\\nThe Mahatma Gandhi University Sikkim (Amendment) Bill, 2025 ', '\\nThe Salaries, Allowances, Pension and Other Benefits of The Ministers, Speaker, Dy. Speaker, LoP, Govt Chief Whip and the MLAs (Tripura) (Ninth Amendment) Bill, 2024 ', '\\nThe Registration (Madhya Pradesh Amendment) Bill, 2025 ', '\\nThe Haryana Honorable Disposal of Dead Body Bill, 2025 ', '\\nThe Bikaner Development Authority Bill, 2025 ', '\\nThe Himachal Pradesh Legislative Assembly (Allowances and Pension of Members) Amendment Bill, 2025 ', '\\nThe Registration (Chhattisgarh Amendment) Bill, 2025 ', '\\nThe Gujarat Land Revenue (Amendment) Bill, 2025 ', '\\nThe Tamil Nadu Urban Local Bodies (Amendment) Bill, 2025 ', '\\nThe Karnataka Public Service Commission (Conduct of Business and Additional Functions) (Amendment) Bill, 2025 ', '\\nThe Telangana Panchayat Raj (Amendment) Bill, 2025 ', '\\nThe Netaji Subhash University of Sports and Entrepreneurship Bill, 2025 ', '\\nThe Andhra Pradesh Private Universities (Establishment and Regulation) (Second Amendment) Bill, 2025 ', '\\nThe Maharashtra Private Universities (Establishment and Regulation) (Amendment) Bill, 2025 ', '\\nThe Maharashtra Regional and Town Planning (Amendment) Bill, 2025 ', '\\nThe Indian Stamp (Punjab Amendment) Bill, 2025 ', '\\nThe Uttar Pradesh Private Universities (Second Amendment) Ordinance, 2025 ', '\\nThe Bihar Agricultural Land (Conversion for Non-agricultural Purposes) (Amendment) Bill, 2025 ', '\\nThe Meghalaya Private Medical Institutions including Institutes under Private University (Regulation of Admission, Fixation of Fees, and Reservation) Ordinance, 2025 ', '\\nThe Maharashtra State Commission for Scheduled Castes Bill, 2025 ', '\\nThe Indian Stamp (Chhattisgarh Amendment) Bill, 2025 ']\n",
      "[\"\\nThe Bihar Underground Pipe Line (Acquisition of user's Right in Land) (Amendment) Bill, 2025 \", '\\nThe Transfer of Prisoners (Punjab Amendment) Bill, 2025 ', '\\nThe Mahatma Gandhi University Sikkim (Amendment) Bill, 2025 ', '\\nThe Salaries, Allowances, Pension and Other Benefits of The Ministers, Speaker, Dy. Speaker, LoP, Govt Chief Whip and the MLAs (Tripura) (Ninth Amendment) Bill, 2024 ', '\\nThe Registration (Madhya Pradesh Amendment) Bill, 2025 ', '\\nThe Haryana Honorable Disposal of Dead Body Bill, 2025 ', '\\nThe Bikaner Development Authority Bill, 2025 ', '\\nThe Himachal Pradesh Legislative Assembly (Allowances and Pension of Members) Amendment Bill, 2025 ', '\\nThe Registration (Chhattisgarh Amendment) Bill, 2025 ', '\\nThe Gujarat Land Revenue (Amendment) Bill, 2025 ', '\\nThe Tamil Nadu Urban Local Bodies (Amendment) Bill, 2025 ', '\\nThe Karnataka Public Service Commission (Conduct of Business and Additional Functions) (Amendment) Bill, 2025 ', '\\nThe Telangana Panchayat Raj (Amendment) Bill, 2025 ', '\\nThe Netaji Subhash University of Sports and Entrepreneurship Bill, 2025 ', '\\nThe Andhra Pradesh Private Universities (Establishment and Regulation) (Second Amendment) Bill, 2025 ', '\\nThe Maharashtra Private Universities (Establishment and Regulation) (Amendment) Bill, 2025 ', '\\nThe Maharashtra Regional and Town Planning (Amendment) Bill, 2025 ', '\\nThe Indian Stamp (Punjab Amendment) Bill, 2025 ', '\\nThe Uttar Pradesh Private Universities (Second Amendment) Ordinance, 2025 ', '\\nThe Bihar Agricultural Land (Conversion for Non-agricultural Purposes) (Amendment) Bill, 2025 ', '\\nThe Meghalaya Private Medical Institutions including Institutes under Private University (Regulation of Admission, Fixation of Fees, and Reservation) Ordinance, 2025 ', '\\nThe Maharashtra State Commission for Scheduled Castes Bill, 2025 ', '\\nThe Indian Stamp (Chhattisgarh Amendment) Bill, 2025 ', '\\nThe West Bengal Sales Tax (Settlement of Dispute) (Amendment) Bill, 2025 ']\n",
      "[\"\\nThe Bihar Underground Pipe Line (Acquisition of user's Right in Land) (Amendment) Bill, 2025 \", '\\nThe Transfer of Prisoners (Punjab Amendment) Bill, 2025 ', '\\nThe Mahatma Gandhi University Sikkim (Amendment) Bill, 2025 ', '\\nThe Salaries, Allowances, Pension and Other Benefits of The Ministers, Speaker, Dy. Speaker, LoP, Govt Chief Whip and the MLAs (Tripura) (Ninth Amendment) Bill, 2024 ', '\\nThe Registration (Madhya Pradesh Amendment) Bill, 2025 ', '\\nThe Haryana Honorable Disposal of Dead Body Bill, 2025 ', '\\nThe Bikaner Development Authority Bill, 2025 ', '\\nThe Himachal Pradesh Legislative Assembly (Allowances and Pension of Members) Amendment Bill, 2025 ', '\\nThe Registration (Chhattisgarh Amendment) Bill, 2025 ', '\\nThe Gujarat Land Revenue (Amendment) Bill, 2025 ', '\\nThe Tamil Nadu Urban Local Bodies (Amendment) Bill, 2025 ', '\\nThe Karnataka Public Service Commission (Conduct of Business and Additional Functions) (Amendment) Bill, 2025 ', '\\nThe Telangana Panchayat Raj (Amendment) Bill, 2025 ', '\\nThe Netaji Subhash University of Sports and Entrepreneurship Bill, 2025 ', '\\nThe Andhra Pradesh Private Universities (Establishment and Regulation) (Second Amendment) Bill, 2025 ', '\\nThe Maharashtra Private Universities (Establishment and Regulation) (Amendment) Bill, 2025 ', '\\nThe Maharashtra Regional and Town Planning (Amendment) Bill, 2025 ', '\\nThe Indian Stamp (Punjab Amendment) Bill, 2025 ', '\\nThe Uttar Pradesh Private Universities (Second Amendment) Ordinance, 2025 ', '\\nThe Bihar Agricultural Land (Conversion for Non-agricultural Purposes) (Amendment) Bill, 2025 ', '\\nThe Meghalaya Private Medical Institutions including Institutes under Private University (Regulation of Admission, Fixation of Fees, and Reservation) Ordinance, 2025 ', '\\nThe Maharashtra State Commission for Scheduled Castes Bill, 2025 ', '\\nThe Indian Stamp (Chhattisgarh Amendment) Bill, 2025 ', '\\nThe West Bengal Sales Tax (Settlement of Dispute) (Amendment) Bill, 2025 ', '\\nThe Telangana Municipalities (Amendment) Bill, 2025 ']\n",
      "[\"\\nThe Bihar Underground Pipe Line (Acquisition of user's Right in Land) (Amendment) Bill, 2025 \", '\\nThe Transfer of Prisoners (Punjab Amendment) Bill, 2025 ', '\\nThe Mahatma Gandhi University Sikkim (Amendment) Bill, 2025 ', '\\nThe Salaries, Allowances, Pension and Other Benefits of The Ministers, Speaker, Dy. Speaker, LoP, Govt Chief Whip and the MLAs (Tripura) (Ninth Amendment) Bill, 2024 ', '\\nThe Registration (Madhya Pradesh Amendment) Bill, 2025 ', '\\nThe Haryana Honorable Disposal of Dead Body Bill, 2025 ', '\\nThe Bikaner Development Authority Bill, 2025 ', '\\nThe Himachal Pradesh Legislative Assembly (Allowances and Pension of Members) Amendment Bill, 2025 ', '\\nThe Registration (Chhattisgarh Amendment) Bill, 2025 ', '\\nThe Gujarat Land Revenue (Amendment) Bill, 2025 ', '\\nThe Tamil Nadu Urban Local Bodies (Amendment) Bill, 2025 ', '\\nThe Karnataka Public Service Commission (Conduct of Business and Additional Functions) (Amendment) Bill, 2025 ', '\\nThe Telangana Panchayat Raj (Amendment) Bill, 2025 ', '\\nThe Netaji Subhash University of Sports and Entrepreneurship Bill, 2025 ', '\\nThe Andhra Pradesh Private Universities (Establishment and Regulation) (Second Amendment) Bill, 2025 ', '\\nThe Maharashtra Private Universities (Establishment and Regulation) (Amendment) Bill, 2025 ', '\\nThe Maharashtra Regional and Town Planning (Amendment) Bill, 2025 ', '\\nThe Indian Stamp (Punjab Amendment) Bill, 2025 ', '\\nThe Uttar Pradesh Private Universities (Second Amendment) Ordinance, 2025 ', '\\nThe Bihar Agricultural Land (Conversion for Non-agricultural Purposes) (Amendment) Bill, 2025 ', '\\nThe Meghalaya Private Medical Institutions including Institutes under Private University (Regulation of Admission, Fixation of Fees, and Reservation) Ordinance, 2025 ', '\\nThe Maharashtra State Commission for Scheduled Castes Bill, 2025 ', '\\nThe Indian Stamp (Chhattisgarh Amendment) Bill, 2025 ', '\\nThe West Bengal Sales Tax (Settlement of Dispute) (Amendment) Bill, 2025 ', '\\nThe Telangana Municipalities (Amendment) Bill, 2025 ', '\\nThe Salaries and Allowances of Ministers (Himachal Pradesh) Amendment Bill, 2025 ']\n",
      "[\"\\nThe Bihar Underground Pipe Line (Acquisition of user's Right in Land) (Amendment) Bill, 2025 \", '\\nThe Transfer of Prisoners (Punjab Amendment) Bill, 2025 ', '\\nThe Mahatma Gandhi University Sikkim (Amendment) Bill, 2025 ', '\\nThe Salaries, Allowances, Pension and Other Benefits of The Ministers, Speaker, Dy. Speaker, LoP, Govt Chief Whip and the MLAs (Tripura) (Ninth Amendment) Bill, 2024 ', '\\nThe Registration (Madhya Pradesh Amendment) Bill, 2025 ', '\\nThe Haryana Honorable Disposal of Dead Body Bill, 2025 ', '\\nThe Bikaner Development Authority Bill, 2025 ', '\\nThe Himachal Pradesh Legislative Assembly (Allowances and Pension of Members) Amendment Bill, 2025 ', '\\nThe Registration (Chhattisgarh Amendment) Bill, 2025 ', '\\nThe Gujarat Land Revenue (Amendment) Bill, 2025 ', '\\nThe Tamil Nadu Urban Local Bodies (Amendment) Bill, 2025 ', '\\nThe Karnataka Public Service Commission (Conduct of Business and Additional Functions) (Amendment) Bill, 2025 ', '\\nThe Telangana Panchayat Raj (Amendment) Bill, 2025 ', '\\nThe Netaji Subhash University of Sports and Entrepreneurship Bill, 2025 ', '\\nThe Andhra Pradesh Private Universities (Establishment and Regulation) (Second Amendment) Bill, 2025 ', '\\nThe Maharashtra Private Universities (Establishment and Regulation) (Amendment) Bill, 2025 ', '\\nThe Maharashtra Regional and Town Planning (Amendment) Bill, 2025 ', '\\nThe Indian Stamp (Punjab Amendment) Bill, 2025 ', '\\nThe Uttar Pradesh Private Universities (Second Amendment) Ordinance, 2025 ', '\\nThe Bihar Agricultural Land (Conversion for Non-agricultural Purposes) (Amendment) Bill, 2025 ', '\\nThe Meghalaya Private Medical Institutions including Institutes under Private University (Regulation of Admission, Fixation of Fees, and Reservation) Ordinance, 2025 ', '\\nThe Maharashtra State Commission for Scheduled Castes Bill, 2025 ', '\\nThe Indian Stamp (Chhattisgarh Amendment) Bill, 2025 ', '\\nThe West Bengal Sales Tax (Settlement of Dispute) (Amendment) Bill, 2025 ', '\\nThe Telangana Municipalities (Amendment) Bill, 2025 ', '\\nThe Salaries and Allowances of Ministers (Himachal Pradesh) Amendment Bill, 2025 ', '\\nThe Tripura Shops and Establishments (Sixth Amendment) Bill, 2024 ']\n",
      "[\"\\nThe Bihar Underground Pipe Line (Acquisition of user's Right in Land) (Amendment) Bill, 2025 \", '\\nThe Transfer of Prisoners (Punjab Amendment) Bill, 2025 ', '\\nThe Mahatma Gandhi University Sikkim (Amendment) Bill, 2025 ', '\\nThe Salaries, Allowances, Pension and Other Benefits of The Ministers, Speaker, Dy. Speaker, LoP, Govt Chief Whip and the MLAs (Tripura) (Ninth Amendment) Bill, 2024 ', '\\nThe Registration (Madhya Pradesh Amendment) Bill, 2025 ', '\\nThe Haryana Honorable Disposal of Dead Body Bill, 2025 ', '\\nThe Bikaner Development Authority Bill, 2025 ', '\\nThe Himachal Pradesh Legislative Assembly (Allowances and Pension of Members) Amendment Bill, 2025 ', '\\nThe Registration (Chhattisgarh Amendment) Bill, 2025 ', '\\nThe Gujarat Land Revenue (Amendment) Bill, 2025 ', '\\nThe Tamil Nadu Urban Local Bodies (Amendment) Bill, 2025 ', '\\nThe Karnataka Public Service Commission (Conduct of Business and Additional Functions) (Amendment) Bill, 2025 ', '\\nThe Telangana Panchayat Raj (Amendment) Bill, 2025 ', '\\nThe Netaji Subhash University of Sports and Entrepreneurship Bill, 2025 ', '\\nThe Andhra Pradesh Private Universities (Establishment and Regulation) (Second Amendment) Bill, 2025 ', '\\nThe Maharashtra Private Universities (Establishment and Regulation) (Amendment) Bill, 2025 ', '\\nThe Maharashtra Regional and Town Planning (Amendment) Bill, 2025 ', '\\nThe Indian Stamp (Punjab Amendment) Bill, 2025 ', '\\nThe Uttar Pradesh Private Universities (Second Amendment) Ordinance, 2025 ', '\\nThe Bihar Agricultural Land (Conversion for Non-agricultural Purposes) (Amendment) Bill, 2025 ', '\\nThe Meghalaya Private Medical Institutions including Institutes under Private University (Regulation of Admission, Fixation of Fees, and Reservation) Ordinance, 2025 ', '\\nThe Maharashtra State Commission for Scheduled Castes Bill, 2025 ', '\\nThe Indian Stamp (Chhattisgarh Amendment) Bill, 2025 ', '\\nThe West Bengal Sales Tax (Settlement of Dispute) (Amendment) Bill, 2025 ', '\\nThe Telangana Municipalities (Amendment) Bill, 2025 ', '\\nThe Salaries and Allowances of Ministers (Himachal Pradesh) Amendment Bill, 2025 ', '\\nThe Tripura Shops and Establishments (Sixth Amendment) Bill, 2024 ', '\\nThe Madhya Pradesh Goods and Services Tax (Amendment) Bill, 2025 ']\n",
      "[\"\\nThe Bihar Underground Pipe Line (Acquisition of user's Right in Land) (Amendment) Bill, 2025 \", '\\nThe Transfer of Prisoners (Punjab Amendment) Bill, 2025 ', '\\nThe Mahatma Gandhi University Sikkim (Amendment) Bill, 2025 ', '\\nThe Salaries, Allowances, Pension and Other Benefits of The Ministers, Speaker, Dy. Speaker, LoP, Govt Chief Whip and the MLAs (Tripura) (Ninth Amendment) Bill, 2024 ', '\\nThe Registration (Madhya Pradesh Amendment) Bill, 2025 ', '\\nThe Haryana Honorable Disposal of Dead Body Bill, 2025 ', '\\nThe Bikaner Development Authority Bill, 2025 ', '\\nThe Himachal Pradesh Legislative Assembly (Allowances and Pension of Members) Amendment Bill, 2025 ', '\\nThe Registration (Chhattisgarh Amendment) Bill, 2025 ', '\\nThe Gujarat Land Revenue (Amendment) Bill, 2025 ', '\\nThe Tamil Nadu Urban Local Bodies (Amendment) Bill, 2025 ', '\\nThe Karnataka Public Service Commission (Conduct of Business and Additional Functions) (Amendment) Bill, 2025 ', '\\nThe Telangana Panchayat Raj (Amendment) Bill, 2025 ', '\\nThe Netaji Subhash University of Sports and Entrepreneurship Bill, 2025 ', '\\nThe Andhra Pradesh Private Universities (Establishment and Regulation) (Second Amendment) Bill, 2025 ', '\\nThe Maharashtra Private Universities (Establishment and Regulation) (Amendment) Bill, 2025 ', '\\nThe Maharashtra Regional and Town Planning (Amendment) Bill, 2025 ', '\\nThe Indian Stamp (Punjab Amendment) Bill, 2025 ', '\\nThe Uttar Pradesh Private Universities (Second Amendment) Ordinance, 2025 ', '\\nThe Bihar Agricultural Land (Conversion for Non-agricultural Purposes) (Amendment) Bill, 2025 ', '\\nThe Meghalaya Private Medical Institutions including Institutes under Private University (Regulation of Admission, Fixation of Fees, and Reservation) Ordinance, 2025 ', '\\nThe Maharashtra State Commission for Scheduled Castes Bill, 2025 ', '\\nThe Indian Stamp (Chhattisgarh Amendment) Bill, 2025 ', '\\nThe West Bengal Sales Tax (Settlement of Dispute) (Amendment) Bill, 2025 ', '\\nThe Telangana Municipalities (Amendment) Bill, 2025 ', '\\nThe Salaries and Allowances of Ministers (Himachal Pradesh) Amendment Bill, 2025 ', '\\nThe Tripura Shops and Establishments (Sixth Amendment) Bill, 2024 ', '\\nThe Madhya Pradesh Goods and Services Tax (Amendment) Bill, 2025 ', '\\nThe Gujarat Bovine Breeding (Regulation) Bill, 2025 ']\n",
      "[\"\\nThe Bihar Underground Pipe Line (Acquisition of user's Right in Land) (Amendment) Bill, 2025 \", '\\nThe Transfer of Prisoners (Punjab Amendment) Bill, 2025 ', '\\nThe Mahatma Gandhi University Sikkim (Amendment) Bill, 2025 ', '\\nThe Salaries, Allowances, Pension and Other Benefits of The Ministers, Speaker, Dy. Speaker, LoP, Govt Chief Whip and the MLAs (Tripura) (Ninth Amendment) Bill, 2024 ', '\\nThe Registration (Madhya Pradesh Amendment) Bill, 2025 ', '\\nThe Haryana Honorable Disposal of Dead Body Bill, 2025 ', '\\nThe Bikaner Development Authority Bill, 2025 ', '\\nThe Himachal Pradesh Legislative Assembly (Allowances and Pension of Members) Amendment Bill, 2025 ', '\\nThe Registration (Chhattisgarh Amendment) Bill, 2025 ', '\\nThe Gujarat Land Revenue (Amendment) Bill, 2025 ', '\\nThe Tamil Nadu Urban Local Bodies (Amendment) Bill, 2025 ', '\\nThe Karnataka Public Service Commission (Conduct of Business and Additional Functions) (Amendment) Bill, 2025 ', '\\nThe Telangana Panchayat Raj (Amendment) Bill, 2025 ', '\\nThe Netaji Subhash University of Sports and Entrepreneurship Bill, 2025 ', '\\nThe Andhra Pradesh Private Universities (Establishment and Regulation) (Second Amendment) Bill, 2025 ', '\\nThe Maharashtra Private Universities (Establishment and Regulation) (Amendment) Bill, 2025 ', '\\nThe Maharashtra Regional and Town Planning (Amendment) Bill, 2025 ', '\\nThe Indian Stamp (Punjab Amendment) Bill, 2025 ', '\\nThe Uttar Pradesh Private Universities (Second Amendment) Ordinance, 2025 ', '\\nThe Bihar Agricultural Land (Conversion for Non-agricultural Purposes) (Amendment) Bill, 2025 ', '\\nThe Meghalaya Private Medical Institutions including Institutes under Private University (Regulation of Admission, Fixation of Fees, and Reservation) Ordinance, 2025 ', '\\nThe Maharashtra State Commission for Scheduled Castes Bill, 2025 ', '\\nThe Indian Stamp (Chhattisgarh Amendment) Bill, 2025 ', '\\nThe West Bengal Sales Tax (Settlement of Dispute) (Amendment) Bill, 2025 ', '\\nThe Telangana Municipalities (Amendment) Bill, 2025 ', '\\nThe Salaries and Allowances of Ministers (Himachal Pradesh) Amendment Bill, 2025 ', '\\nThe Tripura Shops and Establishments (Sixth Amendment) Bill, 2024 ', '\\nThe Madhya Pradesh Goods and Services Tax (Amendment) Bill, 2025 ', '\\nThe Gujarat Bovine Breeding (Regulation) Bill, 2025 ', '\\nThe Bharatpur Development Authority Bill, 2025 ']\n",
      "[\"\\nThe Bihar Underground Pipe Line (Acquisition of user's Right in Land) (Amendment) Bill, 2025 \", '\\nThe Transfer of Prisoners (Punjab Amendment) Bill, 2025 ', '\\nThe Mahatma Gandhi University Sikkim (Amendment) Bill, 2025 ', '\\nThe Salaries, Allowances, Pension and Other Benefits of The Ministers, Speaker, Dy. Speaker, LoP, Govt Chief Whip and the MLAs (Tripura) (Ninth Amendment) Bill, 2024 ', '\\nThe Registration (Madhya Pradesh Amendment) Bill, 2025 ', '\\nThe Haryana Honorable Disposal of Dead Body Bill, 2025 ', '\\nThe Bikaner Development Authority Bill, 2025 ', '\\nThe Himachal Pradesh Legislative Assembly (Allowances and Pension of Members) Amendment Bill, 2025 ', '\\nThe Registration (Chhattisgarh Amendment) Bill, 2025 ', '\\nThe Gujarat Land Revenue (Amendment) Bill, 2025 ', '\\nThe Tamil Nadu Urban Local Bodies (Amendment) Bill, 2025 ', '\\nThe Karnataka Public Service Commission (Conduct of Business and Additional Functions) (Amendment) Bill, 2025 ', '\\nThe Telangana Panchayat Raj (Amendment) Bill, 2025 ', '\\nThe Netaji Subhash University of Sports and Entrepreneurship Bill, 2025 ', '\\nThe Andhra Pradesh Private Universities (Establishment and Regulation) (Second Amendment) Bill, 2025 ', '\\nThe Maharashtra Private Universities (Establishment and Regulation) (Amendment) Bill, 2025 ', '\\nThe Maharashtra Regional and Town Planning (Amendment) Bill, 2025 ', '\\nThe Indian Stamp (Punjab Amendment) Bill, 2025 ', '\\nThe Uttar Pradesh Private Universities (Second Amendment) Ordinance, 2025 ', '\\nThe Bihar Agricultural Land (Conversion for Non-agricultural Purposes) (Amendment) Bill, 2025 ', '\\nThe Meghalaya Private Medical Institutions including Institutes under Private University (Regulation of Admission, Fixation of Fees, and Reservation) Ordinance, 2025 ', '\\nThe Maharashtra State Commission for Scheduled Castes Bill, 2025 ', '\\nThe Indian Stamp (Chhattisgarh Amendment) Bill, 2025 ', '\\nThe West Bengal Sales Tax (Settlement of Dispute) (Amendment) Bill, 2025 ', '\\nThe Telangana Municipalities (Amendment) Bill, 2025 ', '\\nThe Salaries and Allowances of Ministers (Himachal Pradesh) Amendment Bill, 2025 ', '\\nThe Tripura Shops and Establishments (Sixth Amendment) Bill, 2024 ', '\\nThe Madhya Pradesh Goods and Services Tax (Amendment) Bill, 2025 ', '\\nThe Gujarat Bovine Breeding (Regulation) Bill, 2025 ', '\\nThe Bharatpur Development Authority Bill, 2025 ', '\\nThe Nagaland Work-charged and Casual Employee Regulation (Second Amendment) Bill, 2025 ']\n",
      "[\"\\nThe Bihar Underground Pipe Line (Acquisition of user's Right in Land) (Amendment) Bill, 2025 \", '\\nThe Transfer of Prisoners (Punjab Amendment) Bill, 2025 ', '\\nThe Mahatma Gandhi University Sikkim (Amendment) Bill, 2025 ', '\\nThe Salaries, Allowances, Pension and Other Benefits of The Ministers, Speaker, Dy. Speaker, LoP, Govt Chief Whip and the MLAs (Tripura) (Ninth Amendment) Bill, 2024 ', '\\nThe Registration (Madhya Pradesh Amendment) Bill, 2025 ', '\\nThe Haryana Honorable Disposal of Dead Body Bill, 2025 ', '\\nThe Bikaner Development Authority Bill, 2025 ', '\\nThe Himachal Pradesh Legislative Assembly (Allowances and Pension of Members) Amendment Bill, 2025 ', '\\nThe Registration (Chhattisgarh Amendment) Bill, 2025 ', '\\nThe Gujarat Land Revenue (Amendment) Bill, 2025 ', '\\nThe Tamil Nadu Urban Local Bodies (Amendment) Bill, 2025 ', '\\nThe Karnataka Public Service Commission (Conduct of Business and Additional Functions) (Amendment) Bill, 2025 ', '\\nThe Telangana Panchayat Raj (Amendment) Bill, 2025 ', '\\nThe Netaji Subhash University of Sports and Entrepreneurship Bill, 2025 ', '\\nThe Andhra Pradesh Private Universities (Establishment and Regulation) (Second Amendment) Bill, 2025 ', '\\nThe Maharashtra Private Universities (Establishment and Regulation) (Amendment) Bill, 2025 ', '\\nThe Maharashtra Regional and Town Planning (Amendment) Bill, 2025 ', '\\nThe Indian Stamp (Punjab Amendment) Bill, 2025 ', '\\nThe Uttar Pradesh Private Universities (Second Amendment) Ordinance, 2025 ', '\\nThe Bihar Agricultural Land (Conversion for Non-agricultural Purposes) (Amendment) Bill, 2025 ', '\\nThe Meghalaya Private Medical Institutions including Institutes under Private University (Regulation of Admission, Fixation of Fees, and Reservation) Ordinance, 2025 ', '\\nThe Maharashtra State Commission for Scheduled Castes Bill, 2025 ', '\\nThe Indian Stamp (Chhattisgarh Amendment) Bill, 2025 ', '\\nThe West Bengal Sales Tax (Settlement of Dispute) (Amendment) Bill, 2025 ', '\\nThe Telangana Municipalities (Amendment) Bill, 2025 ', '\\nThe Salaries and Allowances of Ministers (Himachal Pradesh) Amendment Bill, 2025 ', '\\nThe Tripura Shops and Establishments (Sixth Amendment) Bill, 2024 ', '\\nThe Madhya Pradesh Goods and Services Tax (Amendment) Bill, 2025 ', '\\nThe Gujarat Bovine Breeding (Regulation) Bill, 2025 ', '\\nThe Bharatpur Development Authority Bill, 2025 ', '\\nThe Nagaland Work-charged and Casual Employee Regulation (Second Amendment) Bill, 2025 ', '\\nThe Karnataka Tax on Profession, Trades, Callings and Employments (Amendment) Bill, 2025 ']\n",
      "[\"\\nThe Bihar Underground Pipe Line (Acquisition of user's Right in Land) (Amendment) Bill, 2025 \", '\\nThe Transfer of Prisoners (Punjab Amendment) Bill, 2025 ', '\\nThe Mahatma Gandhi University Sikkim (Amendment) Bill, 2025 ', '\\nThe Salaries, Allowances, Pension and Other Benefits of The Ministers, Speaker, Dy. Speaker, LoP, Govt Chief Whip and the MLAs (Tripura) (Ninth Amendment) Bill, 2024 ', '\\nThe Registration (Madhya Pradesh Amendment) Bill, 2025 ', '\\nThe Haryana Honorable Disposal of Dead Body Bill, 2025 ', '\\nThe Bikaner Development Authority Bill, 2025 ', '\\nThe Himachal Pradesh Legislative Assembly (Allowances and Pension of Members) Amendment Bill, 2025 ', '\\nThe Registration (Chhattisgarh Amendment) Bill, 2025 ', '\\nThe Gujarat Land Revenue (Amendment) Bill, 2025 ', '\\nThe Tamil Nadu Urban Local Bodies (Amendment) Bill, 2025 ', '\\nThe Karnataka Public Service Commission (Conduct of Business and Additional Functions) (Amendment) Bill, 2025 ', '\\nThe Telangana Panchayat Raj (Amendment) Bill, 2025 ', '\\nThe Netaji Subhash University of Sports and Entrepreneurship Bill, 2025 ', '\\nThe Andhra Pradesh Private Universities (Establishment and Regulation) (Second Amendment) Bill, 2025 ', '\\nThe Maharashtra Private Universities (Establishment and Regulation) (Amendment) Bill, 2025 ', '\\nThe Maharashtra Regional and Town Planning (Amendment) Bill, 2025 ', '\\nThe Indian Stamp (Punjab Amendment) Bill, 2025 ', '\\nThe Uttar Pradesh Private Universities (Second Amendment) Ordinance, 2025 ', '\\nThe Bihar Agricultural Land (Conversion for Non-agricultural Purposes) (Amendment) Bill, 2025 ', '\\nThe Meghalaya Private Medical Institutions including Institutes under Private University (Regulation of Admission, Fixation of Fees, and Reservation) Ordinance, 2025 ', '\\nThe Maharashtra State Commission for Scheduled Castes Bill, 2025 ', '\\nThe Indian Stamp (Chhattisgarh Amendment) Bill, 2025 ', '\\nThe West Bengal Sales Tax (Settlement of Dispute) (Amendment) Bill, 2025 ', '\\nThe Telangana Municipalities (Amendment) Bill, 2025 ', '\\nThe Salaries and Allowances of Ministers (Himachal Pradesh) Amendment Bill, 2025 ', '\\nThe Tripura Shops and Establishments (Sixth Amendment) Bill, 2024 ', '\\nThe Madhya Pradesh Goods and Services Tax (Amendment) Bill, 2025 ', '\\nThe Gujarat Bovine Breeding (Regulation) Bill, 2025 ', '\\nThe Bharatpur Development Authority Bill, 2025 ', '\\nThe Nagaland Work-charged and Casual Employee Regulation (Second Amendment) Bill, 2025 ', '\\nThe Karnataka Tax on Profession, Trades, Callings and Employments (Amendment) Bill, 2025 ', '\\nThe Goa Outdoor Advertisement (Regulations & Control) Bill, 2025 ']\n",
      "[\"\\nThe Bihar Underground Pipe Line (Acquisition of user's Right in Land) (Amendment) Bill, 2025 \", '\\nThe Transfer of Prisoners (Punjab Amendment) Bill, 2025 ', '\\nThe Mahatma Gandhi University Sikkim (Amendment) Bill, 2025 ', '\\nThe Salaries, Allowances, Pension and Other Benefits of The Ministers, Speaker, Dy. Speaker, LoP, Govt Chief Whip and the MLAs (Tripura) (Ninth Amendment) Bill, 2024 ', '\\nThe Registration (Madhya Pradesh Amendment) Bill, 2025 ', '\\nThe Haryana Honorable Disposal of Dead Body Bill, 2025 ', '\\nThe Bikaner Development Authority Bill, 2025 ', '\\nThe Himachal Pradesh Legislative Assembly (Allowances and Pension of Members) Amendment Bill, 2025 ', '\\nThe Registration (Chhattisgarh Amendment) Bill, 2025 ', '\\nThe Gujarat Land Revenue (Amendment) Bill, 2025 ', '\\nThe Tamil Nadu Urban Local Bodies (Amendment) Bill, 2025 ', '\\nThe Karnataka Public Service Commission (Conduct of Business and Additional Functions) (Amendment) Bill, 2025 ', '\\nThe Telangana Panchayat Raj (Amendment) Bill, 2025 ', '\\nThe Netaji Subhash University of Sports and Entrepreneurship Bill, 2025 ', '\\nThe Andhra Pradesh Private Universities (Establishment and Regulation) (Second Amendment) Bill, 2025 ', '\\nThe Maharashtra Private Universities (Establishment and Regulation) (Amendment) Bill, 2025 ', '\\nThe Maharashtra Regional and Town Planning (Amendment) Bill, 2025 ', '\\nThe Indian Stamp (Punjab Amendment) Bill, 2025 ', '\\nThe Uttar Pradesh Private Universities (Second Amendment) Ordinance, 2025 ', '\\nThe Bihar Agricultural Land (Conversion for Non-agricultural Purposes) (Amendment) Bill, 2025 ', '\\nThe Meghalaya Private Medical Institutions including Institutes under Private University (Regulation of Admission, Fixation of Fees, and Reservation) Ordinance, 2025 ', '\\nThe Maharashtra State Commission for Scheduled Castes Bill, 2025 ', '\\nThe Indian Stamp (Chhattisgarh Amendment) Bill, 2025 ', '\\nThe West Bengal Sales Tax (Settlement of Dispute) (Amendment) Bill, 2025 ', '\\nThe Telangana Municipalities (Amendment) Bill, 2025 ', '\\nThe Salaries and Allowances of Ministers (Himachal Pradesh) Amendment Bill, 2025 ', '\\nThe Tripura Shops and Establishments (Sixth Amendment) Bill, 2024 ', '\\nThe Madhya Pradesh Goods and Services Tax (Amendment) Bill, 2025 ', '\\nThe Gujarat Bovine Breeding (Regulation) Bill, 2025 ', '\\nThe Bharatpur Development Authority Bill, 2025 ', '\\nThe Nagaland Work-charged and Casual Employee Regulation (Second Amendment) Bill, 2025 ', '\\nThe Karnataka Tax on Profession, Trades, Callings and Employments (Amendment) Bill, 2025 ', '\\nThe Goa Outdoor Advertisement (Regulations & Control) Bill, 2025 ', '\\nThe Andhra Pradesh State Teachers Transfers Regulation Bill, 2025 ']\n",
      "[\"\\nThe Bihar Underground Pipe Line (Acquisition of user's Right in Land) (Amendment) Bill, 2025 \", '\\nThe Transfer of Prisoners (Punjab Amendment) Bill, 2025 ', '\\nThe Mahatma Gandhi University Sikkim (Amendment) Bill, 2025 ', '\\nThe Salaries, Allowances, Pension and Other Benefits of The Ministers, Speaker, Dy. Speaker, LoP, Govt Chief Whip and the MLAs (Tripura) (Ninth Amendment) Bill, 2024 ', '\\nThe Registration (Madhya Pradesh Amendment) Bill, 2025 ', '\\nThe Haryana Honorable Disposal of Dead Body Bill, 2025 ', '\\nThe Bikaner Development Authority Bill, 2025 ', '\\nThe Himachal Pradesh Legislative Assembly (Allowances and Pension of Members) Amendment Bill, 2025 ', '\\nThe Registration (Chhattisgarh Amendment) Bill, 2025 ', '\\nThe Gujarat Land Revenue (Amendment) Bill, 2025 ', '\\nThe Tamil Nadu Urban Local Bodies (Amendment) Bill, 2025 ', '\\nThe Karnataka Public Service Commission (Conduct of Business and Additional Functions) (Amendment) Bill, 2025 ', '\\nThe Telangana Panchayat Raj (Amendment) Bill, 2025 ', '\\nThe Netaji Subhash University of Sports and Entrepreneurship Bill, 2025 ', '\\nThe Andhra Pradesh Private Universities (Establishment and Regulation) (Second Amendment) Bill, 2025 ', '\\nThe Maharashtra Private Universities (Establishment and Regulation) (Amendment) Bill, 2025 ', '\\nThe Maharashtra Regional and Town Planning (Amendment) Bill, 2025 ', '\\nThe Indian Stamp (Punjab Amendment) Bill, 2025 ', '\\nThe Uttar Pradesh Private Universities (Second Amendment) Ordinance, 2025 ', '\\nThe Bihar Agricultural Land (Conversion for Non-agricultural Purposes) (Amendment) Bill, 2025 ', '\\nThe Meghalaya Private Medical Institutions including Institutes under Private University (Regulation of Admission, Fixation of Fees, and Reservation) Ordinance, 2025 ', '\\nThe Maharashtra State Commission for Scheduled Castes Bill, 2025 ', '\\nThe Indian Stamp (Chhattisgarh Amendment) Bill, 2025 ', '\\nThe West Bengal Sales Tax (Settlement of Dispute) (Amendment) Bill, 2025 ', '\\nThe Telangana Municipalities (Amendment) Bill, 2025 ', '\\nThe Salaries and Allowances of Ministers (Himachal Pradesh) Amendment Bill, 2025 ', '\\nThe Tripura Shops and Establishments (Sixth Amendment) Bill, 2024 ', '\\nThe Madhya Pradesh Goods and Services Tax (Amendment) Bill, 2025 ', '\\nThe Gujarat Bovine Breeding (Regulation) Bill, 2025 ', '\\nThe Bharatpur Development Authority Bill, 2025 ', '\\nThe Nagaland Work-charged and Casual Employee Regulation (Second Amendment) Bill, 2025 ', '\\nThe Karnataka Tax on Profession, Trades, Callings and Employments (Amendment) Bill, 2025 ', '\\nThe Goa Outdoor Advertisement (Regulations & Control) Bill, 2025 ', '\\nThe Andhra Pradesh State Teachers Transfers Regulation Bill, 2025 ', '\\nThe Insecticides (Haryana Amendment) Bill, 2025 ']\n",
      "[\"\\nThe Bihar Underground Pipe Line (Acquisition of user's Right in Land) (Amendment) Bill, 2025 \", '\\nThe Transfer of Prisoners (Punjab Amendment) Bill, 2025 ', '\\nThe Mahatma Gandhi University Sikkim (Amendment) Bill, 2025 ', '\\nThe Salaries, Allowances, Pension and Other Benefits of The Ministers, Speaker, Dy. Speaker, LoP, Govt Chief Whip and the MLAs (Tripura) (Ninth Amendment) Bill, 2024 ', '\\nThe Registration (Madhya Pradesh Amendment) Bill, 2025 ', '\\nThe Haryana Honorable Disposal of Dead Body Bill, 2025 ', '\\nThe Bikaner Development Authority Bill, 2025 ', '\\nThe Himachal Pradesh Legislative Assembly (Allowances and Pension of Members) Amendment Bill, 2025 ', '\\nThe Registration (Chhattisgarh Amendment) Bill, 2025 ', '\\nThe Gujarat Land Revenue (Amendment) Bill, 2025 ', '\\nThe Tamil Nadu Urban Local Bodies (Amendment) Bill, 2025 ', '\\nThe Karnataka Public Service Commission (Conduct of Business and Additional Functions) (Amendment) Bill, 2025 ', '\\nThe Telangana Panchayat Raj (Amendment) Bill, 2025 ', '\\nThe Netaji Subhash University of Sports and Entrepreneurship Bill, 2025 ', '\\nThe Andhra Pradesh Private Universities (Establishment and Regulation) (Second Amendment) Bill, 2025 ', '\\nThe Maharashtra Private Universities (Establishment and Regulation) (Amendment) Bill, 2025 ', '\\nThe Maharashtra Regional and Town Planning (Amendment) Bill, 2025 ', '\\nThe Indian Stamp (Punjab Amendment) Bill, 2025 ', '\\nThe Uttar Pradesh Private Universities (Second Amendment) Ordinance, 2025 ', '\\nThe Bihar Agricultural Land (Conversion for Non-agricultural Purposes) (Amendment) Bill, 2025 ', '\\nThe Meghalaya Private Medical Institutions including Institutes under Private University (Regulation of Admission, Fixation of Fees, and Reservation) Ordinance, 2025 ', '\\nThe Maharashtra State Commission for Scheduled Castes Bill, 2025 ', '\\nThe Indian Stamp (Chhattisgarh Amendment) Bill, 2025 ', '\\nThe West Bengal Sales Tax (Settlement of Dispute) (Amendment) Bill, 2025 ', '\\nThe Telangana Municipalities (Amendment) Bill, 2025 ', '\\nThe Salaries and Allowances of Ministers (Himachal Pradesh) Amendment Bill, 2025 ', '\\nThe Tripura Shops and Establishments (Sixth Amendment) Bill, 2024 ', '\\nThe Madhya Pradesh Goods and Services Tax (Amendment) Bill, 2025 ', '\\nThe Gujarat Bovine Breeding (Regulation) Bill, 2025 ', '\\nThe Bharatpur Development Authority Bill, 2025 ', '\\nThe Nagaland Work-charged and Casual Employee Regulation (Second Amendment) Bill, 2025 ', '\\nThe Karnataka Tax on Profession, Trades, Callings and Employments (Amendment) Bill, 2025 ', '\\nThe Goa Outdoor Advertisement (Regulations & Control) Bill, 2025 ', '\\nThe Andhra Pradesh State Teachers Transfers Regulation Bill, 2025 ', '\\nThe Insecticides (Haryana Amendment) Bill, 2025 ', '\\nThe Maharashtra Village Panchayats (Amendment and Validation) Bill, 2025 ']\n",
      "[\"\\nThe Bihar Underground Pipe Line (Acquisition of user's Right in Land) (Amendment) Bill, 2025 \", '\\nThe Transfer of Prisoners (Punjab Amendment) Bill, 2025 ', '\\nThe Mahatma Gandhi University Sikkim (Amendment) Bill, 2025 ', '\\nThe Salaries, Allowances, Pension and Other Benefits of The Ministers, Speaker, Dy. Speaker, LoP, Govt Chief Whip and the MLAs (Tripura) (Ninth Amendment) Bill, 2024 ', '\\nThe Registration (Madhya Pradesh Amendment) Bill, 2025 ', '\\nThe Haryana Honorable Disposal of Dead Body Bill, 2025 ', '\\nThe Bikaner Development Authority Bill, 2025 ', '\\nThe Himachal Pradesh Legislative Assembly (Allowances and Pension of Members) Amendment Bill, 2025 ', '\\nThe Registration (Chhattisgarh Amendment) Bill, 2025 ', '\\nThe Gujarat Land Revenue (Amendment) Bill, 2025 ', '\\nThe Tamil Nadu Urban Local Bodies (Amendment) Bill, 2025 ', '\\nThe Karnataka Public Service Commission (Conduct of Business and Additional Functions) (Amendment) Bill, 2025 ', '\\nThe Telangana Panchayat Raj (Amendment) Bill, 2025 ', '\\nThe Netaji Subhash University of Sports and Entrepreneurship Bill, 2025 ', '\\nThe Andhra Pradesh Private Universities (Establishment and Regulation) (Second Amendment) Bill, 2025 ', '\\nThe Maharashtra Private Universities (Establishment and Regulation) (Amendment) Bill, 2025 ', '\\nThe Maharashtra Regional and Town Planning (Amendment) Bill, 2025 ', '\\nThe Indian Stamp (Punjab Amendment) Bill, 2025 ', '\\nThe Uttar Pradesh Private Universities (Second Amendment) Ordinance, 2025 ', '\\nThe Bihar Agricultural Land (Conversion for Non-agricultural Purposes) (Amendment) Bill, 2025 ', '\\nThe Meghalaya Private Medical Institutions including Institutes under Private University (Regulation of Admission, Fixation of Fees, and Reservation) Ordinance, 2025 ', '\\nThe Maharashtra State Commission for Scheduled Castes Bill, 2025 ', '\\nThe Indian Stamp (Chhattisgarh Amendment) Bill, 2025 ', '\\nThe West Bengal Sales Tax (Settlement of Dispute) (Amendment) Bill, 2025 ', '\\nThe Telangana Municipalities (Amendment) Bill, 2025 ', '\\nThe Salaries and Allowances of Ministers (Himachal Pradesh) Amendment Bill, 2025 ', '\\nThe Tripura Shops and Establishments (Sixth Amendment) Bill, 2024 ', '\\nThe Madhya Pradesh Goods and Services Tax (Amendment) Bill, 2025 ', '\\nThe Gujarat Bovine Breeding (Regulation) Bill, 2025 ', '\\nThe Bharatpur Development Authority Bill, 2025 ', '\\nThe Nagaland Work-charged and Casual Employee Regulation (Second Amendment) Bill, 2025 ', '\\nThe Karnataka Tax on Profession, Trades, Callings and Employments (Amendment) Bill, 2025 ', '\\nThe Goa Outdoor Advertisement (Regulations & Control) Bill, 2025 ', '\\nThe Andhra Pradesh State Teachers Transfers Regulation Bill, 2025 ', '\\nThe Insecticides (Haryana Amendment) Bill, 2025 ', '\\nThe Maharashtra Village Panchayats (Amendment and Validation) Bill, 2025 ', '\\nThe Maharashtra Control of Organised Crime (Amendment) Bill, 2025 ']\n",
      "[\"\\nThe Bihar Underground Pipe Line (Acquisition of user's Right in Land) (Amendment) Bill, 2025 \", '\\nThe Transfer of Prisoners (Punjab Amendment) Bill, 2025 ', '\\nThe Mahatma Gandhi University Sikkim (Amendment) Bill, 2025 ', '\\nThe Salaries, Allowances, Pension and Other Benefits of The Ministers, Speaker, Dy. Speaker, LoP, Govt Chief Whip and the MLAs (Tripura) (Ninth Amendment) Bill, 2024 ', '\\nThe Registration (Madhya Pradesh Amendment) Bill, 2025 ', '\\nThe Haryana Honorable Disposal of Dead Body Bill, 2025 ', '\\nThe Bikaner Development Authority Bill, 2025 ', '\\nThe Himachal Pradesh Legislative Assembly (Allowances and Pension of Members) Amendment Bill, 2025 ', '\\nThe Registration (Chhattisgarh Amendment) Bill, 2025 ', '\\nThe Gujarat Land Revenue (Amendment) Bill, 2025 ', '\\nThe Tamil Nadu Urban Local Bodies (Amendment) Bill, 2025 ', '\\nThe Karnataka Public Service Commission (Conduct of Business and Additional Functions) (Amendment) Bill, 2025 ', '\\nThe Telangana Panchayat Raj (Amendment) Bill, 2025 ', '\\nThe Netaji Subhash University of Sports and Entrepreneurship Bill, 2025 ', '\\nThe Andhra Pradesh Private Universities (Establishment and Regulation) (Second Amendment) Bill, 2025 ', '\\nThe Maharashtra Private Universities (Establishment and Regulation) (Amendment) Bill, 2025 ', '\\nThe Maharashtra Regional and Town Planning (Amendment) Bill, 2025 ', '\\nThe Indian Stamp (Punjab Amendment) Bill, 2025 ', '\\nThe Uttar Pradesh Private Universities (Second Amendment) Ordinance, 2025 ', '\\nThe Bihar Agricultural Land (Conversion for Non-agricultural Purposes) (Amendment) Bill, 2025 ', '\\nThe Meghalaya Private Medical Institutions including Institutes under Private University (Regulation of Admission, Fixation of Fees, and Reservation) Ordinance, 2025 ', '\\nThe Maharashtra State Commission for Scheduled Castes Bill, 2025 ', '\\nThe Indian Stamp (Chhattisgarh Amendment) Bill, 2025 ', '\\nThe West Bengal Sales Tax (Settlement of Dispute) (Amendment) Bill, 2025 ', '\\nThe Telangana Municipalities (Amendment) Bill, 2025 ', '\\nThe Salaries and Allowances of Ministers (Himachal Pradesh) Amendment Bill, 2025 ', '\\nThe Tripura Shops and Establishments (Sixth Amendment) Bill, 2024 ', '\\nThe Madhya Pradesh Goods and Services Tax (Amendment) Bill, 2025 ', '\\nThe Gujarat Bovine Breeding (Regulation) Bill, 2025 ', '\\nThe Bharatpur Development Authority Bill, 2025 ', '\\nThe Nagaland Work-charged and Casual Employee Regulation (Second Amendment) Bill, 2025 ', '\\nThe Karnataka Tax on Profession, Trades, Callings and Employments (Amendment) Bill, 2025 ', '\\nThe Goa Outdoor Advertisement (Regulations & Control) Bill, 2025 ', '\\nThe Andhra Pradesh State Teachers Transfers Regulation Bill, 2025 ', '\\nThe Insecticides (Haryana Amendment) Bill, 2025 ', '\\nThe Maharashtra Village Panchayats (Amendment and Validation) Bill, 2025 ', '\\nThe Maharashtra Control of Organised Crime (Amendment) Bill, 2025 ', '\\nThe Maharashtra Slum Areas (Improvement, Clearance and Redevelopment) (Second Amendment) Bill, 2025 ']\n",
      "[\"\\nThe Bihar Underground Pipe Line (Acquisition of user's Right in Land) (Amendment) Bill, 2025 \", '\\nThe Transfer of Prisoners (Punjab Amendment) Bill, 2025 ', '\\nThe Mahatma Gandhi University Sikkim (Amendment) Bill, 2025 ', '\\nThe Salaries, Allowances, Pension and Other Benefits of The Ministers, Speaker, Dy. Speaker, LoP, Govt Chief Whip and the MLAs (Tripura) (Ninth Amendment) Bill, 2024 ', '\\nThe Registration (Madhya Pradesh Amendment) Bill, 2025 ', '\\nThe Haryana Honorable Disposal of Dead Body Bill, 2025 ', '\\nThe Bikaner Development Authority Bill, 2025 ', '\\nThe Himachal Pradesh Legislative Assembly (Allowances and Pension of Members) Amendment Bill, 2025 ', '\\nThe Registration (Chhattisgarh Amendment) Bill, 2025 ', '\\nThe Gujarat Land Revenue (Amendment) Bill, 2025 ', '\\nThe Tamil Nadu Urban Local Bodies (Amendment) Bill, 2025 ', '\\nThe Karnataka Public Service Commission (Conduct of Business and Additional Functions) (Amendment) Bill, 2025 ', '\\nThe Telangana Panchayat Raj (Amendment) Bill, 2025 ', '\\nThe Netaji Subhash University of Sports and Entrepreneurship Bill, 2025 ', '\\nThe Andhra Pradesh Private Universities (Establishment and Regulation) (Second Amendment) Bill, 2025 ', '\\nThe Maharashtra Private Universities (Establishment and Regulation) (Amendment) Bill, 2025 ', '\\nThe Maharashtra Regional and Town Planning (Amendment) Bill, 2025 ', '\\nThe Indian Stamp (Punjab Amendment) Bill, 2025 ', '\\nThe Uttar Pradesh Private Universities (Second Amendment) Ordinance, 2025 ', '\\nThe Bihar Agricultural Land (Conversion for Non-agricultural Purposes) (Amendment) Bill, 2025 ', '\\nThe Meghalaya Private Medical Institutions including Institutes under Private University (Regulation of Admission, Fixation of Fees, and Reservation) Ordinance, 2025 ', '\\nThe Maharashtra State Commission for Scheduled Castes Bill, 2025 ', '\\nThe Indian Stamp (Chhattisgarh Amendment) Bill, 2025 ', '\\nThe West Bengal Sales Tax (Settlement of Dispute) (Amendment) Bill, 2025 ', '\\nThe Telangana Municipalities (Amendment) Bill, 2025 ', '\\nThe Salaries and Allowances of Ministers (Himachal Pradesh) Amendment Bill, 2025 ', '\\nThe Tripura Shops and Establishments (Sixth Amendment) Bill, 2024 ', '\\nThe Madhya Pradesh Goods and Services Tax (Amendment) Bill, 2025 ', '\\nThe Gujarat Bovine Breeding (Regulation) Bill, 2025 ', '\\nThe Bharatpur Development Authority Bill, 2025 ', '\\nThe Nagaland Work-charged and Casual Employee Regulation (Second Amendment) Bill, 2025 ', '\\nThe Karnataka Tax on Profession, Trades, Callings and Employments (Amendment) Bill, 2025 ', '\\nThe Goa Outdoor Advertisement (Regulations & Control) Bill, 2025 ', '\\nThe Andhra Pradesh State Teachers Transfers Regulation Bill, 2025 ', '\\nThe Insecticides (Haryana Amendment) Bill, 2025 ', '\\nThe Maharashtra Village Panchayats (Amendment and Validation) Bill, 2025 ', '\\nThe Maharashtra Control of Organised Crime (Amendment) Bill, 2025 ', '\\nThe Maharashtra Slum Areas (Improvement, Clearance and Redevelopment) (Second Amendment) Bill, 2025 ', '\\nThe Maharashtra Unaided Private Professional Educational Institutions (Regulation of Admissions and Fees) (Amendment) Bill, 2025 ']\n",
      "[\"\\nThe Bihar Underground Pipe Line (Acquisition of user's Right in Land) (Amendment) Bill, 2025 \", '\\nThe Transfer of Prisoners (Punjab Amendment) Bill, 2025 ', '\\nThe Mahatma Gandhi University Sikkim (Amendment) Bill, 2025 ', '\\nThe Salaries, Allowances, Pension and Other Benefits of The Ministers, Speaker, Dy. Speaker, LoP, Govt Chief Whip and the MLAs (Tripura) (Ninth Amendment) Bill, 2024 ', '\\nThe Registration (Madhya Pradesh Amendment) Bill, 2025 ', '\\nThe Haryana Honorable Disposal of Dead Body Bill, 2025 ', '\\nThe Bikaner Development Authority Bill, 2025 ', '\\nThe Himachal Pradesh Legislative Assembly (Allowances and Pension of Members) Amendment Bill, 2025 ', '\\nThe Registration (Chhattisgarh Amendment) Bill, 2025 ', '\\nThe Gujarat Land Revenue (Amendment) Bill, 2025 ', '\\nThe Tamil Nadu Urban Local Bodies (Amendment) Bill, 2025 ', '\\nThe Karnataka Public Service Commission (Conduct of Business and Additional Functions) (Amendment) Bill, 2025 ', '\\nThe Telangana Panchayat Raj (Amendment) Bill, 2025 ', '\\nThe Netaji Subhash University of Sports and Entrepreneurship Bill, 2025 ', '\\nThe Andhra Pradesh Private Universities (Establishment and Regulation) (Second Amendment) Bill, 2025 ', '\\nThe Maharashtra Private Universities (Establishment and Regulation) (Amendment) Bill, 2025 ', '\\nThe Maharashtra Regional and Town Planning (Amendment) Bill, 2025 ', '\\nThe Indian Stamp (Punjab Amendment) Bill, 2025 ', '\\nThe Uttar Pradesh Private Universities (Second Amendment) Ordinance, 2025 ', '\\nThe Bihar Agricultural Land (Conversion for Non-agricultural Purposes) (Amendment) Bill, 2025 ', '\\nThe Meghalaya Private Medical Institutions including Institutes under Private University (Regulation of Admission, Fixation of Fees, and Reservation) Ordinance, 2025 ', '\\nThe Maharashtra State Commission for Scheduled Castes Bill, 2025 ', '\\nThe Indian Stamp (Chhattisgarh Amendment) Bill, 2025 ', '\\nThe West Bengal Sales Tax (Settlement of Dispute) (Amendment) Bill, 2025 ', '\\nThe Telangana Municipalities (Amendment) Bill, 2025 ', '\\nThe Salaries and Allowances of Ministers (Himachal Pradesh) Amendment Bill, 2025 ', '\\nThe Tripura Shops and Establishments (Sixth Amendment) Bill, 2024 ', '\\nThe Madhya Pradesh Goods and Services Tax (Amendment) Bill, 2025 ', '\\nThe Gujarat Bovine Breeding (Regulation) Bill, 2025 ', '\\nThe Bharatpur Development Authority Bill, 2025 ', '\\nThe Nagaland Work-charged and Casual Employee Regulation (Second Amendment) Bill, 2025 ', '\\nThe Karnataka Tax on Profession, Trades, Callings and Employments (Amendment) Bill, 2025 ', '\\nThe Goa Outdoor Advertisement (Regulations & Control) Bill, 2025 ', '\\nThe Andhra Pradesh State Teachers Transfers Regulation Bill, 2025 ', '\\nThe Insecticides (Haryana Amendment) Bill, 2025 ', '\\nThe Maharashtra Village Panchayats (Amendment and Validation) Bill, 2025 ', '\\nThe Maharashtra Control of Organised Crime (Amendment) Bill, 2025 ', '\\nThe Maharashtra Slum Areas (Improvement, Clearance and Redevelopment) (Second Amendment) Bill, 2025 ', '\\nThe Maharashtra Unaided Private Professional Educational Institutions (Regulation of Admissions and Fees) (Amendment) Bill, 2025 ', '\\nThe Maharashtra Settlement of Arrears of Tax, Interest, Penalty or Late Fee (Payable by Public Sector Undertaking Companies) (Amendment and Validation) Bill, 2025 ']\n"
     ]
    }
   ],
   "source": [
    "billname = Soup.find_all('h3', attrs={'class': 'file'})\n",
    "bill =[]\n",
    "for i in billname2[0:40]:  \n",
    "      d = i.get_text()\n",
    "      bill.append(d)\n",
    "      print(bill)\n",
    "    "
   ]
  },
  {
   "cell_type": "code",
   "execution_count": 25,
   "id": "425055bf-655e-4fc5-9421-361b59d23093",
   "metadata": {},
   "outputs": [
    {
     "name": "stdout",
     "output_type": "stream",
     "text": [
      "['Bihar']\n",
      "['Bihar', 'Punjab']\n",
      "['Bihar', 'Punjab', 'Sikkim']\n",
      "['Bihar', 'Punjab', 'Sikkim', 'Tripura']\n",
      "['Bihar', 'Punjab', 'Sikkim', 'Tripura', 'Madhya Pradesh']\n",
      "['Bihar', 'Punjab', 'Sikkim', 'Tripura', 'Madhya Pradesh', 'Haryana']\n",
      "['Bihar', 'Punjab', 'Sikkim', 'Tripura', 'Madhya Pradesh', 'Haryana', 'Rajasthan']\n",
      "['Bihar', 'Punjab', 'Sikkim', 'Tripura', 'Madhya Pradesh', 'Haryana', 'Rajasthan', 'Himachal Pradesh']\n",
      "['Bihar', 'Punjab', 'Sikkim', 'Tripura', 'Madhya Pradesh', 'Haryana', 'Rajasthan', 'Himachal Pradesh', 'Chhattisgarh']\n",
      "['Bihar', 'Punjab', 'Sikkim', 'Tripura', 'Madhya Pradesh', 'Haryana', 'Rajasthan', 'Himachal Pradesh', 'Chhattisgarh', 'Gujarat']\n",
      "['Bihar', 'Punjab', 'Sikkim', 'Tripura', 'Madhya Pradesh', 'Haryana', 'Rajasthan', 'Himachal Pradesh', 'Chhattisgarh', 'Gujarat', 'Tamil Nadu']\n",
      "['Bihar', 'Punjab', 'Sikkim', 'Tripura', 'Madhya Pradesh', 'Haryana', 'Rajasthan', 'Himachal Pradesh', 'Chhattisgarh', 'Gujarat', 'Tamil Nadu', 'Karnataka']\n",
      "['Bihar', 'Punjab', 'Sikkim', 'Tripura', 'Madhya Pradesh', 'Haryana', 'Rajasthan', 'Himachal Pradesh', 'Chhattisgarh', 'Gujarat', 'Tamil Nadu', 'Karnataka', 'Telangana']\n",
      "['Bihar', 'Punjab', 'Sikkim', 'Tripura', 'Madhya Pradesh', 'Haryana', 'Rajasthan', 'Himachal Pradesh', 'Chhattisgarh', 'Gujarat', 'Tamil Nadu', 'Karnataka', 'Telangana', 'West Bengal']\n",
      "['Bihar', 'Punjab', 'Sikkim', 'Tripura', 'Madhya Pradesh', 'Haryana', 'Rajasthan', 'Himachal Pradesh', 'Chhattisgarh', 'Gujarat', 'Tamil Nadu', 'Karnataka', 'Telangana', 'West Bengal', 'Andhra Pradesh']\n",
      "['Bihar', 'Punjab', 'Sikkim', 'Tripura', 'Madhya Pradesh', 'Haryana', 'Rajasthan', 'Himachal Pradesh', 'Chhattisgarh', 'Gujarat', 'Tamil Nadu', 'Karnataka', 'Telangana', 'West Bengal', 'Andhra Pradesh', 'Maharashtra']\n",
      "['Bihar', 'Punjab', 'Sikkim', 'Tripura', 'Madhya Pradesh', 'Haryana', 'Rajasthan', 'Himachal Pradesh', 'Chhattisgarh', 'Gujarat', 'Tamil Nadu', 'Karnataka', 'Telangana', 'West Bengal', 'Andhra Pradesh', 'Maharashtra', 'Maharashtra']\n",
      "['Bihar', 'Punjab', 'Sikkim', 'Tripura', 'Madhya Pradesh', 'Haryana', 'Rajasthan', 'Himachal Pradesh', 'Chhattisgarh', 'Gujarat', 'Tamil Nadu', 'Karnataka', 'Telangana', 'West Bengal', 'Andhra Pradesh', 'Maharashtra', 'Maharashtra', 'Punjab']\n",
      "['Bihar', 'Punjab', 'Sikkim', 'Tripura', 'Madhya Pradesh', 'Haryana', 'Rajasthan', 'Himachal Pradesh', 'Chhattisgarh', 'Gujarat', 'Tamil Nadu', 'Karnataka', 'Telangana', 'West Bengal', 'Andhra Pradesh', 'Maharashtra', 'Maharashtra', 'Punjab', 'Uttar Pradesh']\n",
      "['Bihar', 'Punjab', 'Sikkim', 'Tripura', 'Madhya Pradesh', 'Haryana', 'Rajasthan', 'Himachal Pradesh', 'Chhattisgarh', 'Gujarat', 'Tamil Nadu', 'Karnataka', 'Telangana', 'West Bengal', 'Andhra Pradesh', 'Maharashtra', 'Maharashtra', 'Punjab', 'Uttar Pradesh', 'Bihar']\n",
      "['Bihar', 'Punjab', 'Sikkim', 'Tripura', 'Madhya Pradesh', 'Haryana', 'Rajasthan', 'Himachal Pradesh', 'Chhattisgarh', 'Gujarat', 'Tamil Nadu', 'Karnataka', 'Telangana', 'West Bengal', 'Andhra Pradesh', 'Maharashtra', 'Maharashtra', 'Punjab', 'Uttar Pradesh', 'Bihar', 'Meghalaya']\n",
      "['Bihar', 'Punjab', 'Sikkim', 'Tripura', 'Madhya Pradesh', 'Haryana', 'Rajasthan', 'Himachal Pradesh', 'Chhattisgarh', 'Gujarat', 'Tamil Nadu', 'Karnataka', 'Telangana', 'West Bengal', 'Andhra Pradesh', 'Maharashtra', 'Maharashtra', 'Punjab', 'Uttar Pradesh', 'Bihar', 'Meghalaya', 'Maharashtra']\n",
      "['Bihar', 'Punjab', 'Sikkim', 'Tripura', 'Madhya Pradesh', 'Haryana', 'Rajasthan', 'Himachal Pradesh', 'Chhattisgarh', 'Gujarat', 'Tamil Nadu', 'Karnataka', 'Telangana', 'West Bengal', 'Andhra Pradesh', 'Maharashtra', 'Maharashtra', 'Punjab', 'Uttar Pradesh', 'Bihar', 'Meghalaya', 'Maharashtra', 'Chhattisgarh']\n",
      "['Bihar', 'Punjab', 'Sikkim', 'Tripura', 'Madhya Pradesh', 'Haryana', 'Rajasthan', 'Himachal Pradesh', 'Chhattisgarh', 'Gujarat', 'Tamil Nadu', 'Karnataka', 'Telangana', 'West Bengal', 'Andhra Pradesh', 'Maharashtra', 'Maharashtra', 'Punjab', 'Uttar Pradesh', 'Bihar', 'Meghalaya', 'Maharashtra', 'Chhattisgarh', 'West Bengal']\n",
      "['Bihar', 'Punjab', 'Sikkim', 'Tripura', 'Madhya Pradesh', 'Haryana', 'Rajasthan', 'Himachal Pradesh', 'Chhattisgarh', 'Gujarat', 'Tamil Nadu', 'Karnataka', 'Telangana', 'West Bengal', 'Andhra Pradesh', 'Maharashtra', 'Maharashtra', 'Punjab', 'Uttar Pradesh', 'Bihar', 'Meghalaya', 'Maharashtra', 'Chhattisgarh', 'West Bengal', 'Telangana']\n",
      "['Bihar', 'Punjab', 'Sikkim', 'Tripura', 'Madhya Pradesh', 'Haryana', 'Rajasthan', 'Himachal Pradesh', 'Chhattisgarh', 'Gujarat', 'Tamil Nadu', 'Karnataka', 'Telangana', 'West Bengal', 'Andhra Pradesh', 'Maharashtra', 'Maharashtra', 'Punjab', 'Uttar Pradesh', 'Bihar', 'Meghalaya', 'Maharashtra', 'Chhattisgarh', 'West Bengal', 'Telangana', 'Himachal Pradesh']\n",
      "['Bihar', 'Punjab', 'Sikkim', 'Tripura', 'Madhya Pradesh', 'Haryana', 'Rajasthan', 'Himachal Pradesh', 'Chhattisgarh', 'Gujarat', 'Tamil Nadu', 'Karnataka', 'Telangana', 'West Bengal', 'Andhra Pradesh', 'Maharashtra', 'Maharashtra', 'Punjab', 'Uttar Pradesh', 'Bihar', 'Meghalaya', 'Maharashtra', 'Chhattisgarh', 'West Bengal', 'Telangana', 'Himachal Pradesh', 'Tripura']\n",
      "['Bihar', 'Punjab', 'Sikkim', 'Tripura', 'Madhya Pradesh', 'Haryana', 'Rajasthan', 'Himachal Pradesh', 'Chhattisgarh', 'Gujarat', 'Tamil Nadu', 'Karnataka', 'Telangana', 'West Bengal', 'Andhra Pradesh', 'Maharashtra', 'Maharashtra', 'Punjab', 'Uttar Pradesh', 'Bihar', 'Meghalaya', 'Maharashtra', 'Chhattisgarh', 'West Bengal', 'Telangana', 'Himachal Pradesh', 'Tripura', 'Madhya Pradesh']\n",
      "['Bihar', 'Punjab', 'Sikkim', 'Tripura', 'Madhya Pradesh', 'Haryana', 'Rajasthan', 'Himachal Pradesh', 'Chhattisgarh', 'Gujarat', 'Tamil Nadu', 'Karnataka', 'Telangana', 'West Bengal', 'Andhra Pradesh', 'Maharashtra', 'Maharashtra', 'Punjab', 'Uttar Pradesh', 'Bihar', 'Meghalaya', 'Maharashtra', 'Chhattisgarh', 'West Bengal', 'Telangana', 'Himachal Pradesh', 'Tripura', 'Madhya Pradesh', 'Gujarat']\n",
      "['Bihar', 'Punjab', 'Sikkim', 'Tripura', 'Madhya Pradesh', 'Haryana', 'Rajasthan', 'Himachal Pradesh', 'Chhattisgarh', 'Gujarat', 'Tamil Nadu', 'Karnataka', 'Telangana', 'West Bengal', 'Andhra Pradesh', 'Maharashtra', 'Maharashtra', 'Punjab', 'Uttar Pradesh', 'Bihar', 'Meghalaya', 'Maharashtra', 'Chhattisgarh', 'West Bengal', 'Telangana', 'Himachal Pradesh', 'Tripura', 'Madhya Pradesh', 'Gujarat', 'Rajasthan']\n",
      "['Bihar', 'Punjab', 'Sikkim', 'Tripura', 'Madhya Pradesh', 'Haryana', 'Rajasthan', 'Himachal Pradesh', 'Chhattisgarh', 'Gujarat', 'Tamil Nadu', 'Karnataka', 'Telangana', 'West Bengal', 'Andhra Pradesh', 'Maharashtra', 'Maharashtra', 'Punjab', 'Uttar Pradesh', 'Bihar', 'Meghalaya', 'Maharashtra', 'Chhattisgarh', 'West Bengal', 'Telangana', 'Himachal Pradesh', 'Tripura', 'Madhya Pradesh', 'Gujarat', 'Rajasthan', 'Nagaland']\n",
      "['Bihar', 'Punjab', 'Sikkim', 'Tripura', 'Madhya Pradesh', 'Haryana', 'Rajasthan', 'Himachal Pradesh', 'Chhattisgarh', 'Gujarat', 'Tamil Nadu', 'Karnataka', 'Telangana', 'West Bengal', 'Andhra Pradesh', 'Maharashtra', 'Maharashtra', 'Punjab', 'Uttar Pradesh', 'Bihar', 'Meghalaya', 'Maharashtra', 'Chhattisgarh', 'West Bengal', 'Telangana', 'Himachal Pradesh', 'Tripura', 'Madhya Pradesh', 'Gujarat', 'Rajasthan', 'Nagaland', 'Karnataka']\n",
      "['Bihar', 'Punjab', 'Sikkim', 'Tripura', 'Madhya Pradesh', 'Haryana', 'Rajasthan', 'Himachal Pradesh', 'Chhattisgarh', 'Gujarat', 'Tamil Nadu', 'Karnataka', 'Telangana', 'West Bengal', 'Andhra Pradesh', 'Maharashtra', 'Maharashtra', 'Punjab', 'Uttar Pradesh', 'Bihar', 'Meghalaya', 'Maharashtra', 'Chhattisgarh', 'West Bengal', 'Telangana', 'Himachal Pradesh', 'Tripura', 'Madhya Pradesh', 'Gujarat', 'Rajasthan', 'Nagaland', 'Karnataka', 'Goa']\n",
      "['Bihar', 'Punjab', 'Sikkim', 'Tripura', 'Madhya Pradesh', 'Haryana', 'Rajasthan', 'Himachal Pradesh', 'Chhattisgarh', 'Gujarat', 'Tamil Nadu', 'Karnataka', 'Telangana', 'West Bengal', 'Andhra Pradesh', 'Maharashtra', 'Maharashtra', 'Punjab', 'Uttar Pradesh', 'Bihar', 'Meghalaya', 'Maharashtra', 'Chhattisgarh', 'West Bengal', 'Telangana', 'Himachal Pradesh', 'Tripura', 'Madhya Pradesh', 'Gujarat', 'Rajasthan', 'Nagaland', 'Karnataka', 'Goa', 'Andhra Pradesh']\n",
      "['Bihar', 'Punjab', 'Sikkim', 'Tripura', 'Madhya Pradesh', 'Haryana', 'Rajasthan', 'Himachal Pradesh', 'Chhattisgarh', 'Gujarat', 'Tamil Nadu', 'Karnataka', 'Telangana', 'West Bengal', 'Andhra Pradesh', 'Maharashtra', 'Maharashtra', 'Punjab', 'Uttar Pradesh', 'Bihar', 'Meghalaya', 'Maharashtra', 'Chhattisgarh', 'West Bengal', 'Telangana', 'Himachal Pradesh', 'Tripura', 'Madhya Pradesh', 'Gujarat', 'Rajasthan', 'Nagaland', 'Karnataka', 'Goa', 'Andhra Pradesh', 'Haryana']\n",
      "['Bihar', 'Punjab', 'Sikkim', 'Tripura', 'Madhya Pradesh', 'Haryana', 'Rajasthan', 'Himachal Pradesh', 'Chhattisgarh', 'Gujarat', 'Tamil Nadu', 'Karnataka', 'Telangana', 'West Bengal', 'Andhra Pradesh', 'Maharashtra', 'Maharashtra', 'Punjab', 'Uttar Pradesh', 'Bihar', 'Meghalaya', 'Maharashtra', 'Chhattisgarh', 'West Bengal', 'Telangana', 'Himachal Pradesh', 'Tripura', 'Madhya Pradesh', 'Gujarat', 'Rajasthan', 'Nagaland', 'Karnataka', 'Goa', 'Andhra Pradesh', 'Haryana', 'Maharashtra']\n",
      "['Bihar', 'Punjab', 'Sikkim', 'Tripura', 'Madhya Pradesh', 'Haryana', 'Rajasthan', 'Himachal Pradesh', 'Chhattisgarh', 'Gujarat', 'Tamil Nadu', 'Karnataka', 'Telangana', 'West Bengal', 'Andhra Pradesh', 'Maharashtra', 'Maharashtra', 'Punjab', 'Uttar Pradesh', 'Bihar', 'Meghalaya', 'Maharashtra', 'Chhattisgarh', 'West Bengal', 'Telangana', 'Himachal Pradesh', 'Tripura', 'Madhya Pradesh', 'Gujarat', 'Rajasthan', 'Nagaland', 'Karnataka', 'Goa', 'Andhra Pradesh', 'Haryana', 'Maharashtra', 'Maharashtra']\n",
      "['Bihar', 'Punjab', 'Sikkim', 'Tripura', 'Madhya Pradesh', 'Haryana', 'Rajasthan', 'Himachal Pradesh', 'Chhattisgarh', 'Gujarat', 'Tamil Nadu', 'Karnataka', 'Telangana', 'West Bengal', 'Andhra Pradesh', 'Maharashtra', 'Maharashtra', 'Punjab', 'Uttar Pradesh', 'Bihar', 'Meghalaya', 'Maharashtra', 'Chhattisgarh', 'West Bengal', 'Telangana', 'Himachal Pradesh', 'Tripura', 'Madhya Pradesh', 'Gujarat', 'Rajasthan', 'Nagaland', 'Karnataka', 'Goa', 'Andhra Pradesh', 'Haryana', 'Maharashtra', 'Maharashtra', 'Maharashtra']\n",
      "['Bihar', 'Punjab', 'Sikkim', 'Tripura', 'Madhya Pradesh', 'Haryana', 'Rajasthan', 'Himachal Pradesh', 'Chhattisgarh', 'Gujarat', 'Tamil Nadu', 'Karnataka', 'Telangana', 'West Bengal', 'Andhra Pradesh', 'Maharashtra', 'Maharashtra', 'Punjab', 'Uttar Pradesh', 'Bihar', 'Meghalaya', 'Maharashtra', 'Chhattisgarh', 'West Bengal', 'Telangana', 'Himachal Pradesh', 'Tripura', 'Madhya Pradesh', 'Gujarat', 'Rajasthan', 'Nagaland', 'Karnataka', 'Goa', 'Andhra Pradesh', 'Haryana', 'Maharashtra', 'Maharashtra', 'Maharashtra', 'Maharashtra']\n",
      "['Bihar', 'Punjab', 'Sikkim', 'Tripura', 'Madhya Pradesh', 'Haryana', 'Rajasthan', 'Himachal Pradesh', 'Chhattisgarh', 'Gujarat', 'Tamil Nadu', 'Karnataka', 'Telangana', 'West Bengal', 'Andhra Pradesh', 'Maharashtra', 'Maharashtra', 'Punjab', 'Uttar Pradesh', 'Bihar', 'Meghalaya', 'Maharashtra', 'Chhattisgarh', 'West Bengal', 'Telangana', 'Himachal Pradesh', 'Tripura', 'Madhya Pradesh', 'Gujarat', 'Rajasthan', 'Nagaland', 'Karnataka', 'Goa', 'Andhra Pradesh', 'Haryana', 'Maharashtra', 'Maharashtra', 'Maharashtra', 'Maharashtra', 'Maharashtra']\n"
     ]
    }
   ],
   "source": [
    "states = Soup.find_all('span', class_='status-pending')\n",
    "state =[]\n",
    "for i in states[0:40]:\n",
    "      d = i.get_text()\n",
    "      state.append(d)\n",
    "      print(state)\n",
    "      "
   ]
  },
  {
   "cell_type": "code",
   "execution_count": 27,
   "id": "de9b9dd3-e613-4297-b54d-be8f4889dddf",
   "metadata": {},
   "outputs": [],
   "source": [
    "\n",
    "import pandas as pd"
   ]
  },
  {
   "cell_type": "code",
   "execution_count": 29,
   "id": "9ec9692d-395e-438b-8fb2-c4b724f53cf0",
   "metadata": {},
   "outputs": [],
   "source": [
    "import pandas as pd\n",
    "\n",
    "df = pd.DataFrame({\n",
    "    'states': state,\n",
    "    'billname': bill2\n",
    "})\n"
   ]
  },
  {
   "cell_type": "code",
   "execution_count": 38,
   "id": "f515c37a-f107-4e86-938a-2f75e5319f7f",
   "metadata": {},
   "outputs": [
    {
     "name": "stdout",
     "output_type": "stream",
     "text": [
      "<class 'pandas.core.frame.DataFrame'>\n",
      "RangeIndex: 40 entries, 0 to 39\n",
      "Data columns (total 2 columns):\n",
      " #   Column    Non-Null Count  Dtype \n",
      "---  ------    --------------  ----- \n",
      " 0   states    40 non-null     object\n",
      " 1   billname  40 non-null     object\n",
      "dtypes: object(2)\n",
      "memory usage: 768.0+ bytes\n"
     ]
    }
   ],
   "source": [
    "df.info()"
   ]
  },
  {
   "cell_type": "code",
   "execution_count": 48,
   "id": "9f27bdfd-7f3b-48ba-a842-8c7942adda4b",
   "metadata": {},
   "outputs": [],
   "source": [
    "df = df.drop_duplicates()\n"
   ]
  },
  {
   "cell_type": "code",
   "execution_count": 50,
   "id": "a25a85bb-2e99-4863-89cf-9e72aec6b277",
   "metadata": {},
   "outputs": [
    {
     "data": {
      "text/html": [
       "<div>\n",
       "<style scoped>\n",
       "    .dataframe tbody tr th:only-of-type {\n",
       "        vertical-align: middle;\n",
       "    }\n",
       "\n",
       "    .dataframe tbody tr th {\n",
       "        vertical-align: top;\n",
       "    }\n",
       "\n",
       "    .dataframe thead th {\n",
       "        text-align: right;\n",
       "    }\n",
       "</style>\n",
       "<table border=\"1\" class=\"dataframe\">\n",
       "  <thead>\n",
       "    <tr style=\"text-align: right;\">\n",
       "      <th></th>\n",
       "      <th>states</th>\n",
       "      <th>billname</th>\n",
       "    </tr>\n",
       "  </thead>\n",
       "  <tbody>\n",
       "    <tr>\n",
       "      <th>0</th>\n",
       "      <td>Bihar</td>\n",
       "      <td>\\nThe Bihar Underground Pipe Line (Acquisition...</td>\n",
       "    </tr>\n",
       "    <tr>\n",
       "      <th>1</th>\n",
       "      <td>Punjab</td>\n",
       "      <td>\\nThe Transfer of Prisoners (Punjab Amendment)...</td>\n",
       "    </tr>\n",
       "    <tr>\n",
       "      <th>2</th>\n",
       "      <td>Sikkim</td>\n",
       "      <td>\\nThe Mahatma Gandhi University Sikkim (Amendm...</td>\n",
       "    </tr>\n",
       "    <tr>\n",
       "      <th>3</th>\n",
       "      <td>Tripura</td>\n",
       "      <td>\\nThe Salaries, Allowances, Pension and Other ...</td>\n",
       "    </tr>\n",
       "    <tr>\n",
       "      <th>4</th>\n",
       "      <td>Madhya Pradesh</td>\n",
       "      <td>\\nThe Registration (Madhya Pradesh Amendment) ...</td>\n",
       "    </tr>\n",
       "    <tr>\n",
       "      <th>5</th>\n",
       "      <td>Haryana</td>\n",
       "      <td>\\nThe Haryana Honorable Disposal of Dead Body ...</td>\n",
       "    </tr>\n",
       "    <tr>\n",
       "      <th>6</th>\n",
       "      <td>Rajasthan</td>\n",
       "      <td>\\nThe Bikaner Development Authority Bill, 2025</td>\n",
       "    </tr>\n",
       "    <tr>\n",
       "      <th>7</th>\n",
       "      <td>Himachal Pradesh</td>\n",
       "      <td>\\nThe Himachal Pradesh Legislative Assembly (A...</td>\n",
       "    </tr>\n",
       "    <tr>\n",
       "      <th>8</th>\n",
       "      <td>Chhattisgarh</td>\n",
       "      <td>\\nThe Registration (Chhattisgarh Amendment) Bi...</td>\n",
       "    </tr>\n",
       "    <tr>\n",
       "      <th>9</th>\n",
       "      <td>Gujarat</td>\n",
       "      <td>\\nThe Gujarat Land Revenue (Amendment) Bill, 2...</td>\n",
       "    </tr>\n",
       "    <tr>\n",
       "      <th>10</th>\n",
       "      <td>Tamil Nadu</td>\n",
       "      <td>\\nThe Tamil Nadu Urban Local Bodies (Amendment...</td>\n",
       "    </tr>\n",
       "    <tr>\n",
       "      <th>11</th>\n",
       "      <td>Karnataka</td>\n",
       "      <td>\\nThe Karnataka Public Service Commission (Con...</td>\n",
       "    </tr>\n",
       "    <tr>\n",
       "      <th>12</th>\n",
       "      <td>Telangana</td>\n",
       "      <td>\\nThe Telangana Panchayat Raj (Amendment) Bill...</td>\n",
       "    </tr>\n",
       "    <tr>\n",
       "      <th>13</th>\n",
       "      <td>West Bengal</td>\n",
       "      <td>\\nThe Netaji Subhash University of Sports and ...</td>\n",
       "    </tr>\n",
       "    <tr>\n",
       "      <th>14</th>\n",
       "      <td>Andhra Pradesh</td>\n",
       "      <td>\\nThe Andhra Pradesh Private Universities (Est...</td>\n",
       "    </tr>\n",
       "    <tr>\n",
       "      <th>15</th>\n",
       "      <td>Maharashtra</td>\n",
       "      <td>\\nThe Maharashtra Private Universities (Establ...</td>\n",
       "    </tr>\n",
       "    <tr>\n",
       "      <th>16</th>\n",
       "      <td>Maharashtra</td>\n",
       "      <td>\\nThe Maharashtra Regional and Town Planning (...</td>\n",
       "    </tr>\n",
       "    <tr>\n",
       "      <th>17</th>\n",
       "      <td>Punjab</td>\n",
       "      <td>\\nThe Indian Stamp (Punjab Amendment) Bill, 2025</td>\n",
       "    </tr>\n",
       "    <tr>\n",
       "      <th>18</th>\n",
       "      <td>Uttar Pradesh</td>\n",
       "      <td>\\nThe Uttar Pradesh Private Universities (Seco...</td>\n",
       "    </tr>\n",
       "    <tr>\n",
       "      <th>19</th>\n",
       "      <td>Bihar</td>\n",
       "      <td>\\nThe Bihar Agricultural Land (Conversion for ...</td>\n",
       "    </tr>\n",
       "    <tr>\n",
       "      <th>20</th>\n",
       "      <td>Meghalaya</td>\n",
       "      <td>\\nThe Meghalaya Private Medical Institutions i...</td>\n",
       "    </tr>\n",
       "    <tr>\n",
       "      <th>21</th>\n",
       "      <td>Maharashtra</td>\n",
       "      <td>\\nThe Maharashtra State Commission for Schedul...</td>\n",
       "    </tr>\n",
       "    <tr>\n",
       "      <th>22</th>\n",
       "      <td>Chhattisgarh</td>\n",
       "      <td>\\nThe Indian Stamp (Chhattisgarh Amendment) Bi...</td>\n",
       "    </tr>\n",
       "    <tr>\n",
       "      <th>23</th>\n",
       "      <td>West Bengal</td>\n",
       "      <td>\\nThe West Bengal Sales Tax (Settlement of Dis...</td>\n",
       "    </tr>\n",
       "    <tr>\n",
       "      <th>24</th>\n",
       "      <td>Telangana</td>\n",
       "      <td>\\nThe Telangana Municipalities (Amendment) Bil...</td>\n",
       "    </tr>\n",
       "    <tr>\n",
       "      <th>25</th>\n",
       "      <td>Himachal Pradesh</td>\n",
       "      <td>\\nThe Salaries and Allowances of Ministers (Hi...</td>\n",
       "    </tr>\n",
       "    <tr>\n",
       "      <th>26</th>\n",
       "      <td>Tripura</td>\n",
       "      <td>\\nThe Tripura Shops and Establishments (Sixth ...</td>\n",
       "    </tr>\n",
       "    <tr>\n",
       "      <th>27</th>\n",
       "      <td>Madhya Pradesh</td>\n",
       "      <td>\\nThe Madhya Pradesh Goods and Services Tax (A...</td>\n",
       "    </tr>\n",
       "    <tr>\n",
       "      <th>28</th>\n",
       "      <td>Gujarat</td>\n",
       "      <td>\\nThe Gujarat Bovine Breeding (Regulation) Bil...</td>\n",
       "    </tr>\n",
       "    <tr>\n",
       "      <th>29</th>\n",
       "      <td>Rajasthan</td>\n",
       "      <td>\\nThe Bharatpur Development Authority Bill, 2025</td>\n",
       "    </tr>\n",
       "    <tr>\n",
       "      <th>30</th>\n",
       "      <td>Nagaland</td>\n",
       "      <td>\\nThe Nagaland Work-charged and Casual Employe...</td>\n",
       "    </tr>\n",
       "    <tr>\n",
       "      <th>31</th>\n",
       "      <td>Karnataka</td>\n",
       "      <td>\\nThe Karnataka Tax on Profession, Trades, Cal...</td>\n",
       "    </tr>\n",
       "    <tr>\n",
       "      <th>32</th>\n",
       "      <td>Goa</td>\n",
       "      <td>\\nThe Goa Outdoor Advertisement (Regulations &amp;...</td>\n",
       "    </tr>\n",
       "    <tr>\n",
       "      <th>33</th>\n",
       "      <td>Andhra Pradesh</td>\n",
       "      <td>\\nThe Andhra Pradesh State Teachers Transfers ...</td>\n",
       "    </tr>\n",
       "    <tr>\n",
       "      <th>34</th>\n",
       "      <td>Haryana</td>\n",
       "      <td>\\nThe Insecticides (Haryana Amendment) Bill, 2...</td>\n",
       "    </tr>\n",
       "    <tr>\n",
       "      <th>35</th>\n",
       "      <td>Maharashtra</td>\n",
       "      <td>\\nThe Maharashtra Village Panchayats (Amendmen...</td>\n",
       "    </tr>\n",
       "    <tr>\n",
       "      <th>36</th>\n",
       "      <td>Maharashtra</td>\n",
       "      <td>\\nThe Maharashtra Control of Organised Crime (...</td>\n",
       "    </tr>\n",
       "    <tr>\n",
       "      <th>37</th>\n",
       "      <td>Maharashtra</td>\n",
       "      <td>\\nThe Maharashtra Slum Areas (Improvement, Cle...</td>\n",
       "    </tr>\n",
       "    <tr>\n",
       "      <th>38</th>\n",
       "      <td>Maharashtra</td>\n",
       "      <td>\\nThe Maharashtra Unaided Private Professional...</td>\n",
       "    </tr>\n",
       "    <tr>\n",
       "      <th>39</th>\n",
       "      <td>Maharashtra</td>\n",
       "      <td>\\nThe Maharashtra Settlement of Arrears of Tax...</td>\n",
       "    </tr>\n",
       "  </tbody>\n",
       "</table>\n",
       "</div>"
      ],
      "text/plain": [
       "              states                                           billname\n",
       "0              Bihar  \\nThe Bihar Underground Pipe Line (Acquisition...\n",
       "1             Punjab  \\nThe Transfer of Prisoners (Punjab Amendment)...\n",
       "2             Sikkim  \\nThe Mahatma Gandhi University Sikkim (Amendm...\n",
       "3            Tripura  \\nThe Salaries, Allowances, Pension and Other ...\n",
       "4     Madhya Pradesh  \\nThe Registration (Madhya Pradesh Amendment) ...\n",
       "5            Haryana  \\nThe Haryana Honorable Disposal of Dead Body ...\n",
       "6          Rajasthan    \\nThe Bikaner Development Authority Bill, 2025 \n",
       "7   Himachal Pradesh  \\nThe Himachal Pradesh Legislative Assembly (A...\n",
       "8       Chhattisgarh  \\nThe Registration (Chhattisgarh Amendment) Bi...\n",
       "9            Gujarat  \\nThe Gujarat Land Revenue (Amendment) Bill, 2...\n",
       "10        Tamil Nadu  \\nThe Tamil Nadu Urban Local Bodies (Amendment...\n",
       "11         Karnataka  \\nThe Karnataka Public Service Commission (Con...\n",
       "12         Telangana  \\nThe Telangana Panchayat Raj (Amendment) Bill...\n",
       "13       West Bengal  \\nThe Netaji Subhash University of Sports and ...\n",
       "14    Andhra Pradesh  \\nThe Andhra Pradesh Private Universities (Est...\n",
       "15       Maharashtra  \\nThe Maharashtra Private Universities (Establ...\n",
       "16       Maharashtra  \\nThe Maharashtra Regional and Town Planning (...\n",
       "17            Punjab  \\nThe Indian Stamp (Punjab Amendment) Bill, 2025 \n",
       "18     Uttar Pradesh  \\nThe Uttar Pradesh Private Universities (Seco...\n",
       "19             Bihar  \\nThe Bihar Agricultural Land (Conversion for ...\n",
       "20         Meghalaya  \\nThe Meghalaya Private Medical Institutions i...\n",
       "21       Maharashtra  \\nThe Maharashtra State Commission for Schedul...\n",
       "22      Chhattisgarh  \\nThe Indian Stamp (Chhattisgarh Amendment) Bi...\n",
       "23       West Bengal  \\nThe West Bengal Sales Tax (Settlement of Dis...\n",
       "24         Telangana  \\nThe Telangana Municipalities (Amendment) Bil...\n",
       "25  Himachal Pradesh  \\nThe Salaries and Allowances of Ministers (Hi...\n",
       "26           Tripura  \\nThe Tripura Shops and Establishments (Sixth ...\n",
       "27    Madhya Pradesh  \\nThe Madhya Pradesh Goods and Services Tax (A...\n",
       "28           Gujarat  \\nThe Gujarat Bovine Breeding (Regulation) Bil...\n",
       "29         Rajasthan  \\nThe Bharatpur Development Authority Bill, 2025 \n",
       "30          Nagaland  \\nThe Nagaland Work-charged and Casual Employe...\n",
       "31         Karnataka  \\nThe Karnataka Tax on Profession, Trades, Cal...\n",
       "32               Goa  \\nThe Goa Outdoor Advertisement (Regulations &...\n",
       "33    Andhra Pradesh  \\nThe Andhra Pradesh State Teachers Transfers ...\n",
       "34           Haryana  \\nThe Insecticides (Haryana Amendment) Bill, 2...\n",
       "35       Maharashtra  \\nThe Maharashtra Village Panchayats (Amendmen...\n",
       "36       Maharashtra  \\nThe Maharashtra Control of Organised Crime (...\n",
       "37       Maharashtra  \\nThe Maharashtra Slum Areas (Improvement, Cle...\n",
       "38       Maharashtra  \\nThe Maharashtra Unaided Private Professional...\n",
       "39       Maharashtra  \\nThe Maharashtra Settlement of Arrears of Tax..."
      ]
     },
     "execution_count": 50,
     "metadata": {},
     "output_type": "execute_result"
    }
   ],
   "source": [
    "df"
   ]
  },
  {
   "cell_type": "code",
   "execution_count": 60,
   "id": "3c9a794e-7d33-4b77-a7ec-4867c2343e2e",
   "metadata": {},
   "outputs": [],
   "source": [
    "df['cleaned_text'] = df['billname'].str.replace(r'[^\\n\\w\\s\\(\\)\\.,]', '', regex=True)"
   ]
  },
  {
   "cell_type": "code",
   "execution_count": 70,
   "id": "8fe69b6b-7f6a-4392-be3c-d31196f5c882",
   "metadata": {},
   "outputs": [],
   "source": [
    "df['cleaned_text']  =  df['billname'].str.strip()"
   ]
  },
  {
   "cell_type": "code",
   "execution_count": 72,
   "id": "375738ce-384f-4395-bade-014741aa0c4a",
   "metadata": {},
   "outputs": [],
   "source": [
    "x = df['states']\n",
    "y = df['cleaned_text']"
   ]
  },
  {
   "cell_type": "code",
   "execution_count": 74,
   "id": "0986b385-5c7c-4cdc-a3be-63d3e95308ba",
   "metadata": {},
   "outputs": [
    {
     "data": {
      "text/plain": [
       "0                Bihar\n",
       "1               Punjab\n",
       "2               Sikkim\n",
       "3              Tripura\n",
       "4       Madhya Pradesh\n",
       "5              Haryana\n",
       "6            Rajasthan\n",
       "7     Himachal Pradesh\n",
       "8         Chhattisgarh\n",
       "9              Gujarat\n",
       "10          Tamil Nadu\n",
       "11           Karnataka\n",
       "12           Telangana\n",
       "13         West Bengal\n",
       "14      Andhra Pradesh\n",
       "15         Maharashtra\n",
       "16         Maharashtra\n",
       "17              Punjab\n",
       "18       Uttar Pradesh\n",
       "19               Bihar\n",
       "20           Meghalaya\n",
       "21         Maharashtra\n",
       "22        Chhattisgarh\n",
       "23         West Bengal\n",
       "24           Telangana\n",
       "25    Himachal Pradesh\n",
       "26             Tripura\n",
       "27      Madhya Pradesh\n",
       "28             Gujarat\n",
       "29           Rajasthan\n",
       "30            Nagaland\n",
       "31           Karnataka\n",
       "32                 Goa\n",
       "33      Andhra Pradesh\n",
       "34             Haryana\n",
       "35         Maharashtra\n",
       "36         Maharashtra\n",
       "37         Maharashtra\n",
       "38         Maharashtra\n",
       "39         Maharashtra\n",
       "Name: states, dtype: object"
      ]
     },
     "execution_count": 74,
     "metadata": {},
     "output_type": "execute_result"
    }
   ],
   "source": [
    "x"
   ]
  },
  {
   "cell_type": "code",
   "execution_count": 77,
   "id": "9307230c-e6f9-4354-bdc1-ab139f359d0b",
   "metadata": {},
   "outputs": [
    {
     "data": {
      "text/plain": [
       "0     The Bihar Underground Pipe Line (Acquisition o...\n",
       "1     The Transfer of Prisoners (Punjab Amendment) B...\n",
       "2     The Mahatma Gandhi University Sikkim (Amendmen...\n",
       "3     The Salaries, Allowances, Pension and Other Be...\n",
       "4     The Registration (Madhya Pradesh Amendment) Bi...\n",
       "5     The Haryana Honorable Disposal of Dead Body Bi...\n",
       "6          The Bikaner Development Authority Bill, 2025\n",
       "7     The Himachal Pradesh Legislative Assembly (All...\n",
       "8     The Registration (Chhattisgarh Amendment) Bill...\n",
       "9       The Gujarat Land Revenue (Amendment) Bill, 2025\n",
       "10    The Tamil Nadu Urban Local Bodies (Amendment) ...\n",
       "11    The Karnataka Public Service Commission (Condu...\n",
       "12    The Telangana Panchayat Raj (Amendment) Bill, ...\n",
       "13    The Netaji Subhash University of Sports and En...\n",
       "14    The Andhra Pradesh Private Universities (Estab...\n",
       "15    The Maharashtra Private Universities (Establis...\n",
       "16    The Maharashtra Regional and Town Planning (Am...\n",
       "17       The Indian Stamp (Punjab Amendment) Bill, 2025\n",
       "18    The Uttar Pradesh Private Universities (Second...\n",
       "19    The Bihar Agricultural Land (Conversion for No...\n",
       "20    The Meghalaya Private Medical Institutions inc...\n",
       "21    The Maharashtra State Commission for Scheduled...\n",
       "22    The Indian Stamp (Chhattisgarh Amendment) Bill...\n",
       "23    The West Bengal Sales Tax (Settlement of Dispu...\n",
       "24    The Telangana Municipalities (Amendment) Bill,...\n",
       "25    The Salaries and Allowances of Ministers (Hima...\n",
       "26    The Tripura Shops and Establishments (Sixth Am...\n",
       "27    The Madhya Pradesh Goods and Services Tax (Ame...\n",
       "28    The Gujarat Bovine Breeding (Regulation) Bill,...\n",
       "29       The Bharatpur Development Authority Bill, 2025\n",
       "30    The Nagaland Work-charged and Casual Employee ...\n",
       "31    The Karnataka Tax on Profession, Trades, Calli...\n",
       "32    The Goa Outdoor Advertisement (Regulations & C...\n",
       "33    The Andhra Pradesh State Teachers Transfers Re...\n",
       "34      The Insecticides (Haryana Amendment) Bill, 2025\n",
       "35    The Maharashtra Village Panchayats (Amendment ...\n",
       "36    The Maharashtra Control of Organised Crime (Am...\n",
       "37    The Maharashtra Slum Areas (Improvement, Clear...\n",
       "38    The Maharashtra Unaided Private Professional E...\n",
       "39    The Maharashtra Settlement of Arrears of Tax, ...\n",
       "Name: cleaned_text, dtype: object"
      ]
     },
     "execution_count": 77,
     "metadata": {},
     "output_type": "execute_result"
    }
   ],
   "source": [
    "y"
   ]
  },
  {
   "cell_type": "code",
   "execution_count": null,
   "id": "670399b8-c595-40b5-ac8b-913799ee5227",
   "metadata": {},
   "outputs": [],
   "source": []
  },
  {
   "cell_type": "code",
   "execution_count": null,
   "id": "c3ab6ad5-fe98-4f4e-b3f5-92bd9b4938f2",
   "metadata": {},
   "outputs": [],
   "source": []
  },
  {
   "cell_type": "code",
   "execution_count": null,
   "id": "25f8be3f-0303-4262-b514-2a0f1ee9473c",
   "metadata": {},
   "outputs": [],
   "source": []
  }
 ],
 "metadata": {
  "kernelspec": {
   "display_name": "Python 3 (ipykernel)",
   "language": "python",
   "name": "python3"
  },
  "language_info": {
   "codemirror_mode": {
    "name": "ipython",
    "version": 3
   },
   "file_extension": ".py",
   "mimetype": "text/x-python",
   "name": "python",
   "nbconvert_exporter": "python",
   "pygments_lexer": "ipython3",
   "version": "3.9.21"
  }
 },
 "nbformat": 4,
 "nbformat_minor": 5
}
