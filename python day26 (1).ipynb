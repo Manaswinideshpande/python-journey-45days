{
 "cells": [
  {
   "cell_type": "code",
   "execution_count": 1,
   "id": "af91fe69-3963-4248-8b28-8fb4207d62fc",
   "metadata": {},
   "outputs": [
    {
     "name": "stdout",
     "output_type": "stream",
     "text": [
      "0\n",
      "1\n",
      "2\n",
      "3\n",
      "4\n"
     ]
    }
   ],
   "source": [
    "for i in range(5):\n",
    "    print(i)"
   ]
  },
  {
   "cell_type": "code",
   "execution_count": 3,
   "id": "057b7d59-df96-4a7f-9250-04086ef16a7f",
   "metadata": {},
   "outputs": [
    {
     "name": "stdout",
     "output_type": "stream",
     "text": [
      "0\n",
      "1\n",
      "2\n",
      "3\n",
      "4\n"
     ]
    }
   ],
   "source": [
    "for i in range(0,5):\n",
    "    print(i)"
   ]
  },
  {
   "cell_type": "code",
   "execution_count": 4,
   "id": "00aa1d29-1164-4789-854c-f749460e8b09",
   "metadata": {},
   "outputs": [
    {
     "name": "stdout",
     "output_type": "stream",
     "text": [
      "1\n",
      "3\n",
      "5\n",
      "7\n",
      "9\n"
     ]
    }
   ],
   "source": [
    "for i in range(1,10,2):\n",
    "    print(i)"
   ]
  },
  {
   "cell_type": "code",
   "execution_count": 7,
   "id": "97d0f485-70e3-45b3-8154-9e85c8232f0b",
   "metadata": {},
   "outputs": [
    {
     "name": "stdout",
     "output_type": "stream",
     "text": [
      "10\n",
      "8\n",
      "6\n",
      "4\n",
      "2\n"
     ]
    }
   ],
   "source": [
    "for i in range(10,1,-2):\n",
    "    print(i)"
   ]
  },
  {
   "cell_type": "code",
   "execution_count": 9,
   "id": "76a0c3b3-0e27-4b7b-9647-3519394a7951",
   "metadata": {},
   "outputs": [
    {
     "name": "stdout",
     "output_type": "stream",
     "text": [
      "Manaswini Deshpande"
     ]
    }
   ],
   "source": [
    "str = \"Manaswini Deshpande\"\n",
    "for i in str:\n",
    "    print(i,end=\"\")\n",
    "    "
   ]
  },
  {
   "cell_type": "code",
   "execution_count": 11,
   "id": "f063a1a4-6e41-420a-99ab-f2c81104f2b0",
   "metadata": {},
   "outputs": [
    {
     "name": "stdout",
     "output_type": "stream",
     "text": [
      "M\n",
      "a\n",
      "n\n",
      "a\n",
      "s\n",
      "w\n",
      "i\n",
      "n\n",
      "i\n",
      " \n",
      "D\n",
      "e\n",
      "s\n",
      "h\n",
      "p\n",
      "a\n",
      "n\n",
      "d\n",
      "e\n"
     ]
    }
   ],
   "source": [
    "str = \"Manaswini Deshpande\"\n",
    "for i in str:\n",
    "    print(i)\n",
    "    "
   ]
  },
  {
   "cell_type": "code",
   "execution_count": 18,
   "id": "1482724c-1cf5-46a7-816c-d2ba0e996cba",
   "metadata": {},
   "outputs": [
    {
     "name": "stdout",
     "output_type": "stream",
     "text": [
      "0\n",
      "1\n",
      "2\n",
      "3\n",
      "4\n"
     ]
    }
   ],
   "source": [
    "count=0\n",
    "while count<5:\n",
    "    print(count)\n",
    "    count=count+1\n",
    " "
   ]
  },
  {
   "cell_type": "code",
   "execution_count": 15,
   "id": "615d9dca-4ebf-4fb2-a3e2-589e24a83ea1",
   "metadata": {},
   "outputs": [
    {
     "name": "stdout",
     "output_type": "stream",
     "text": [
      "0\n",
      "1\n",
      "2\n",
      "3\n",
      "4\n"
     ]
    }
   ],
   "source": [
    "for i in range(10):\n",
    "    if i==5:\n",
    "        break\n",
    "    print(i)"
   ]
  },
  {
   "cell_type": "code",
   "execution_count": 22,
   "id": "2b1c9dce-77c0-4cbd-874e-9462bcef8b26",
   "metadata": {},
   "outputs": [
    {
     "name": "stdout",
     "output_type": "stream",
     "text": [
      "1\n",
      "3\n",
      "5\n",
      "7\n",
      "9\n"
     ]
    }
   ],
   "source": [
    "for i in range(10):\n",
    "    if i%2==0:\n",
    "        continue\n",
    "    print(i)"
   ]
  },
  {
   "cell_type": "code",
   "execution_count": 24,
   "id": "b5c882f6-7117-4250-b4ce-72c1001ee1f5",
   "metadata": {},
   "outputs": [
    {
     "name": "stdout",
     "output_type": "stream",
     "text": [
      "0\n",
      "1\n",
      "2\n",
      "3\n",
      "4\n"
     ]
    }
   ],
   "source": [
    "for i in range(5):\n",
    "    if i==3:\n",
    "        pass\n",
    "    print(i)"
   ]
  },
  {
   "cell_type": "code",
   "execution_count": 28,
   "id": "1131e63f-fae6-41dc-b69c-bebc9e0b3f89",
   "metadata": {},
   "outputs": [
    {
     "name": "stdout",
     "output_type": "stream",
     "text": [
      "i:0 and j:0\n",
      "i:0 and j:1\n",
      "i:1 and j:0\n",
      "i:1 and j:1\n",
      "i:2 and j:0\n",
      "i:2 and j:1\n"
     ]
    }
   ],
   "source": [
    "for i in range(3):\n",
    "    for j in range(2):\n",
    "        print(f\"i:{i} and j:{j}\")"
   ]
  },
  {
   "cell_type": "code",
   "execution_count": 30,
   "id": "1fde6517-c15f-4ee1-8cae-c96cca955ac3",
   "metadata": {},
   "outputs": [
    {
     "name": "stdout",
     "output_type": "stream",
     "text": [
      "55\n",
      "11\n"
     ]
    }
   ],
   "source": [
    "n=10\n",
    "sum =0\n",
    "count=1\n",
    "while count<=n:\n",
    "    sum =sum+count\n",
    "    count =count+1\n",
    "print(sum)\n",
    "print(count)"
   ]
  },
  {
   "cell_type": "code",
   "execution_count": 43,
   "id": "98a1aaf6-c0d3-4120-8c64-c6e6171b688b",
   "metadata": {},
   "outputs": [
    {
     "name": "stdout",
     "output_type": "stream",
     "text": [
      "2\n",
      "3\n",
      "5\n",
      "7\n",
      "11\n",
      "13\n",
      "17\n",
      "19\n",
      "23\n",
      "29\n",
      "31\n",
      "37\n",
      "41\n",
      "43\n",
      "47\n",
      "53\n",
      "59\n",
      "61\n",
      "67\n",
      "71\n",
      "73\n",
      "79\n",
      "83\n",
      "89\n",
      "97\n"
     ]
    }
   ],
   "source": [
    "for num in range(2, 101):  \n",
    "    is_prime = True\n",
    "    for i in range(2, num):\n",
    "        if num % i == 0:\n",
    "            is_prime = False\n",
    "            break\n",
    "    if is_prime:\n",
    "        print(num)"
   ]
  },
  {
   "cell_type": "code",
   "execution_count": 7,
   "id": "0fc7207f-0162-49e6-ba06-b7eb7903f4fc",
   "metadata": {},
   "outputs": [
    {
     "name": "stdin",
     "output_type": "stream",
     "text": [
      "enter first number 5\n",
      "enter second number 6\n",
      "enter third number 7\n"
     ]
    },
    {
     "name": "stdout",
     "output_type": "stream",
     "text": [
      "Middle number is 5\n",
      "Middle number is 6\n"
     ]
    }
   ],
   "source": [
    "num1=int(input(\"enter first number\"))\n",
    "num2 = int(input(\"enter second number\"))\n",
    "num3 = int(input(\"enter third number\"))\n",
    "if(num1<num2 and num1<num3) or (num1<num2 and num1>num3):\n",
    "    print(\"Middle number is\",num1)\n",
    "if(num2>num1 and num2<num3) or (num2<num1 and num2>num3):\n",
    "    print(\"Middle number is\", num2)\n",
    "if(num3>num2 and num3<num1) or (num3>num1 and num3<num2):\n",
    "    print(\"Middle number is\", num3\n",
    "    "
   ]
  },
  {
   "cell_type": "markdown",
   "id": "243e23e1-faf9-43d1-9344-82030cd46bff",
   "metadata": {},
   "source": []
  },
  {
   "cell_type": "code",
   "execution_count": 11,
   "id": "4f7f59bc-33db-4bc9-8865-42f59f9dfd6f",
   "metadata": {},
   "outputs": [
    {
     "name": "stdout",
     "output_type": "stream",
     "text": [
      "Object `not` not found.\n"
     ]
    },
    {
     "name": "stdin",
     "output_type": "stream",
     "text": [
      "enter the first side of triangle 5\n",
      "enter the second side of triangle 6\n",
      "enter the third side of gtriangle 8\n"
     ]
    },
    {
     "name": "stdout",
     "output_type": "stream",
     "text": [
      "triangl is possible\n"
     ]
    }
   ],
   "source": [
    "Accept 3 sides of traingle  and check whether triangle is possible or not?\n",
    "s1 = int(input(\"enter the first side of triangle\"))\n",
    "s2 = int(input(\"enter the second side of triangle\"))\n",
    "s3 = int(input(\"enter the third side of gtriangle\"))\n",
    "if s1+s2>s3 and s2+s3>s1 and s1+s3>s2:\n",
    "    print(\"triangl is possible\")\n",
    "else:\n",
    "   print(\"Triangle not possible\")"
   ]
  },
  {
   "cell_type": "code",
   "execution_count": 21,
   "id": "d61951d0-f406-42cf-bcbc-b64cee973c13",
   "metadata": {},
   "outputs": [
    {
     "name": "stdin",
     "output_type": "stream",
     "text": [
      "enter the value 9\n",
      "enter the value 15\n",
      "enter the value 12\n"
     ]
    },
    {
     "name": "stdout",
     "output_type": "stream",
     "text": [
      "9 12 12\n"
     ]
    }
   ],
   "source": [
    "i=int(input(\"enter the value\"))\n",
    "j=int(input(\"enter the value\"))\n",
    "k=int(input(\"enter the value\"))\n",
    "if i <j:\n",
    "    if j<k:\n",
    "        i =j\n",
    "    else:\n",
    "        j=k\n",
    "else:\n",
    "    if j>k:\n",
    "        j=i\n",
    "    else:\n",
    "        i=k\n",
    "print(i,j,k)\n",
    "\n"
   ]
  },
  {
   "cell_type": "code",
   "execution_count": 29,
   "id": "e2729249-8ad7-46c2-baed-6fc701cd130d",
   "metadata": {},
   "outputs": [
    {
     "name": "stdin",
     "output_type": "stream",
     "text": [
      "enter the units: 500\n"
     ]
    },
    {
     "name": "stdout",
     "output_type": "stream",
     "text": [
      "total amount to pay is 1400\n"
     ]
    }
   ],
   "source": [
    "unit=int(input(\"enter the units:\"))\n",
    "if unit<100:\n",
    "    amt=0\n",
    "elif unit>100 and unit<=300:\n",
    "    amt=(unit-100)*2\n",
    "else:\n",
    "    amt = 400+(unit-300)*5\n",
    "print(\"total amount to pay is\",amt)"
   ]
  },
  {
   "cell_type": "code",
   "execution_count": 39,
   "id": "e4bf1a69-ed28-4a85-838a-0bd9518d320b",
   "metadata": {},
   "outputs": [
    {
     "name": "stdin",
     "output_type": "stream",
     "text": [
      "enter the units: 15\n"
     ]
    },
    {
     "name": "stdout",
     "output_type": "stream",
     "text": [
      "total amount to pay is 60\n"
     ]
    }
   ],
   "source": [
    "charge=int(input(\"enter the units:\"))\n",
    "if charge<=5:\n",
    "    amt=2\n",
    "elif charge>6 and charge<=10:\n",
    "    amt=charge*3\n",
    "elif charge>=11 and charge<=15:\n",
    "    amt=charge*4\n",
    "else:\n",
    "    amt =charge*5\n",
    "print(\"total amount to pay is\",amt)"
   ]
  },
  {
   "cell_type": "code",
   "execution_count": 43,
   "id": "d110c708-45ea-493f-8124-ccd0512b69a6",
   "metadata": {},
   "outputs": [
    {
     "name": "stdin",
     "output_type": "stream",
     "text": [
      "enter the kms: 120\n"
     ]
    },
    {
     "name": "stdout",
     "output_type": "stream",
     "text": [
      "Total amount to pay is:amt 1190\n"
     ]
    }
   ],
   "source": [
    "#accept the kilometers covered and calculating the bill\n",
    "# 1st 10 km = 11rupees/km\n",
    "#next 90 kilometers =10 rupees/km\n",
    "#after 90 kms  =9/km\n",
    "km=int(input(\"enter the kms:\"))\n",
    "if km<=10:\n",
    "    amt=km*11\n",
    "elif km>10 and km <=100:\n",
    "    amt = (10*11)+(km-10)*10\n",
    "\n",
    "elif km>100:\n",
    "    amt = 1010+(km-100)*9\n",
    "print(\"Total amount to pay is:amt\",amt)"
   ]
  },
  {
   "cell_type": "code",
   "execution_count": 49,
   "id": "c8f3e6b0-8a69-42d4-9bfe-43a104361612",
   "metadata": {},
   "outputs": [
    {
     "name": "stdin",
     "output_type": "stream",
     "text": [
      "enter the marks 80\n",
      "enter the marks 80\n",
      "enter the marks 80\n",
      "enter the marks 80\n"
     ]
    },
    {
     "name": "stdout",
     "output_type": "stream",
     "text": [
      "student belongs to Science stream: 320\n"
     ]
    }
   ],
   "source": [
    "eng=int(input(\"enter the marks\"))\n",
    "math = int(input(\"enter the marks\"))\n",
    "Science= int(input(\"enter the marks\"))\n",
    "Social = int(input(\"enter the marks\"))\n",
    "marks  =  (eng+math+Science+Social)\n",
    "mark1  =   (math+Science)\n",
    "if marks>80:\n",
    "      print(\"student belongs to Science stream:\",marks)\n",
    "elif eng>80 and mark1>50:\n",
    "      print(\"student belongs to commerce stream:\",mark1)\n",
    "elif eng>80 and Social>80:\n",
    "     print(\"student belongs to Humanities:\")\n",
    "\n",
    "\n"
   ]
  },
  {
   "cell_type": "code",
   "execution_count": null,
   "id": "bbfd7cda-c81b-49a2-bd20-c187e6476b41",
   "metadata": {},
   "outputs": [],
   "source": []
  },
  {
   "cell_type": "code",
   "execution_count": null,
   "id": "59ab4fbb-ee77-4ebe-9e20-fc99f0e9969b",
   "metadata": {},
   "outputs": [],
   "source": []
  },
  {
   "cell_type": "code",
   "execution_count": null,
   "id": "26e577ac-5a90-46fa-a8e3-ee527e2ff779",
   "metadata": {},
   "outputs": [],
   "source": []
  },
  {
   "cell_type": "code",
   "execution_count": null,
   "id": "c991bfe8-7926-481f-af50-b562ee60f7a8",
   "metadata": {},
   "outputs": [],
   "source": []
  },
  {
   "cell_type": "code",
   "execution_count": null,
   "id": "a891dfd3-0105-4111-a0c4-63cbc6792ef1",
   "metadata": {},
   "outputs": [],
   "source": []
  },
  {
   "cell_type": "code",
   "execution_count": null,
   "id": "dc94be08-08f9-4b97-9d9c-fe49ab4617de",
   "metadata": {},
   "outputs": [],
   "source": []
  },
  {
   "cell_type": "code",
   "execution_count": null,
   "id": "592354ee-8195-4d48-b20d-39ebf64d40eb",
   "metadata": {},
   "outputs": [],
   "source": []
  }
 ],
 "metadata": {
  "kernelspec": {
   "display_name": "Python 3 (ipykernel)",
   "language": "python",
   "name": "python3"
  },
  "language_info": {
   "codemirror_mode": {
    "name": "ipython",
    "version": 3
   },
   "file_extension": ".py",
   "mimetype": "text/x-python",
   "name": "python",
   "nbconvert_exporter": "python",
   "pygments_lexer": "ipython3",
   "version": "3.9.21"
  }
 },
 "nbformat": 4,
 "nbformat_minor": 5
}
